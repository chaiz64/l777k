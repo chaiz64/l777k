{
  "cells": [
    {
      "cell_type": "markdown",
      "metadata": {
        "id": "intro"
      },
      "source": [
        "# Douyin Live Recorder\n",
        "\n",
        "Notebook นี้ใช้สำหรับรัน DouyinLiveRecorder เพื่อบันทึกวิดีโอไลฟ์จาก Douyin (TikTok จีน)"
      ]
    },
    {
      "cell_type": "code",
      "execution_count": null,
      "metadata": {
        "id": "clone_repo"
      },
      "outputs": [],
      "source": [
        "# Clone repositories\n",
        "!git clone https://github.com/ihmily/DouyinLiveRecorder.git\n",
        "!git clone https://github.com/chaiz64/l777k.git"
      ]
    },
    {
      "cell_type": "code",
      "execution_count": null,
      "metadata": {},
      "outputs": [],
      "source": [
        "# Copy configuration files\n",
        "!cp l777k/config.ini DouyinLiveRecorder/config/\n",
        "!cp l777k/URL_config.ini DouyinLiveRecorder/config/"
      ]
    },
    {
      "cell_type": "code",
      "execution_count": null,
      "metadata": {
        "id": "install_requirements"
      },
      "outputs": [],
      "source": [
        "# เข้าไปยังโฟลเดอร์โปรเจค\n",
        "%cd DouyinLiveRecorder\n",
        "\n",
        "# ติดตั้ง dependencies\n",
        "!pip3 install -r requirements.txt"
      ]
    },
    {
      "cell_type": "code",
      "execution_count": null,
      "metadata": {
        "id": "install_ffmpeg"
      },
      "outputs": [],
      "source": [
        "# ติดตั้ง ffmpeg\n",
        "!apt update\n",
        "!apt install ffmpeg -y"
      ]
    },
    {
      "cell_type": "code",
      "execution_count": null,
      "metadata": {
        "id": "run_recorder"
      },
      "outputs": [],
      "source": [
        "# รันโปรแกรม\n",
        "!python main.py"
      ]
    },
    {
      "cell_type": "code",
      "execution_count": null,
      "metadata": {},
      "outputs": [],
      "source": [
        "import shutil\n",
        "from google.colab import files\n",
        "\n",
        "# กำหนดชื่อไฟล์ ZIP\n",
        "zip_filename = \"/content/douyin_live_backup.zip\"\n",
        "source_folder = \"/content/DouyinLiveRecorder/downloads/抖音直播\"\n",
        "\n",
        "# บีบอัดโฟลเดอร์เป็นไฟล์ ZIP\n",
        "shutil.make_archive(zip_filename.replace(\".zip\", \"\"), 'zip', source_folder)\n",
        "\n",
        "# ดาวน์โหลดไฟล์ ZIP\n",
        "files.download(zip_filename)\n"
      ]
    },
    {
      "cell_type": "code",
      "execution_count": null,
      "metadata": {},
      "outputs": [],
      "source": [
        "import os\n",
        "import IPython.display as display\n",
        "\n",
        "# ฟังก์ชันแปลงขนาดไฟล์เป็น GB หรือ TB\n",
        "def convert_size(size_in_bytes):\n",
        "    if size_in_bytes < 1024:\n",
        "        return f\"{size_in_bytes} B\"\n",
        "    elif size_in_bytes < 1024**2:\n",
        "        return f\"{size_in_bytes / 1024:.2f} KB\"\n",
        "    elif size_in_bytes < 1024**3:\n",
        "        return f\"{size_in_bytes / 1024**2:.2f} MB\"\n",
        "    elif size_in_bytes < 1024**4:\n",
        "        return f\"{size_in_bytes / 1024**3:.2f} GB\"\n",
        "    else:\n",
        "        return f\"{size_in_bytes / 1024**4:.2f} TB\"\n",
        "\n",
        "# กำหนดโฟลเดอร์หลักที่เก็บไฟล์\n",
        "base_folder = \"/content/DouyinLiveRecorder/downloads/抖音直播\"\n",
        "\n",
        "# ตรวจสอบว่าโฟลเดอร์มีอยู่หรือไม่\n",
        "if not os.path.exists(base_folder):\n",
        "    print(\"❌ ไม่พบโฟลเดอร์ที่กำหนด\")\n",
        "else:\n",
        "    # ค้นหาไฟล์ทั้งหมดในโฟลเดอร์และโฟลเดอร์ย่อย\n",
        "    file_paths = []\n",
        "    for root, _, files in os.walk(base_folder):\n",
        "        for file in files:\n",
        "            if file.endswith(('.mp4', '.ts')):  # เลือกเฉพาะไฟล์ .mp4 และ .ts\n",
        "                full_path = os.path.join(root, file)\n",
        "                relative_path = full_path.replace(base_folder + \"/\", \"\")  # แสดงพาธย่อ\n",
        "                file_paths.append((full_path, relative_path))\n",
        "    \n",
        "    # ตรวจสอบว่าพบไฟล์หรือไม่\n",
        "    if not file_paths:\n",
        "        print(\"❌ ไม่พบไฟล์ .mp4 หรือ .ts ในโฟลเดอร์\")\n",
        "    else:\n",
        "        print(f\"✅ พบ {len(file_paths)} ไฟล์ในโฟลเดอร์ '{base_folder}'\\n\")\n",
        "\n",
        "        # แสดงลิงก์ดาวน์โหลดและขนาดไฟล์\n",
        "        for full_path, relative_path in sorted(file_paths):\n",
        "            file_size = os.path.getsize(full_path)\n",
        "            file_size_str = convert_size(file_size)  # แปลงขนาดไฟล์เป็นหน่วยที่เหมาะสม\n",
        "            display.display(display.HTML(\n",
        "                f'<a href=\"/files{full_path}\" download=\"{relative_path}\" target=\"_blank\">📥 ดาวน์โหลด {relative_path} ({file_size_str})</a><br>'\n",
        "            ))\n"
      ]
    }
  ],
  "metadata": {
    "colab": {
      "collapsed_sections": [],
      "name": "Douyin Live Recorder",
      "provenance": []
    },
    "kernelspec": {
      "display_name": "Python 3",
      "name": "python3"
    },
    "language_info": {
      "name": "python",
      "version": "3.13.0"
    }
  },
  "nbformat": 4,
  "nbformat_minor": 0
}
