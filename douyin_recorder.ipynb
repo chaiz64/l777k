{
  "cells": [
    {
      "cell_type": "markdown",
      "metadata": {
        "id": "intro"
      },
      "source": [
        "# Douyin Live Recorder\n",
        "\n",
        "Notebook นี้ใช้สำหรับรัน DouyinLiveRecorder เพื่อบันทึกวิดีโอไลฟ์จาก Douyin (TikTok จีน)"
      ]
    },
    {
      "cell_type": "code",
      "execution_count": null,
      "metadata": {
        "id": "clone_repo"
      },
      "outputs": [],
      "source": [
        "# Clone repositories\n",
        "!git clone https://github.com/ihmily/DouyinLiveRecorder.git\n",
        "!git clone https://github.com/chaiz64/l777k.git"
      ]
    },
    {
      "cell_type": "code",
      "execution_count": null,
      "metadata": {
        "id": "146y0HbDvwBg"
      },
      "outputs": [],
      "source": [
        "# Copy configuration files\n",
        "!cp l777k/config.ini DouyinLiveRecorder/config/\n",
        "!cp l777k/URL_config.ini DouyinLiveRecorder/config/"
      ]
    },
    {
      "cell_type": "code",
      "execution_count": null,
      "metadata": {
        "id": "install_requirements"
      },
      "outputs": [],
      "source": [
        "# เข้าไปยังโฟลเดอร์โปรเจค\n",
        "%cd DouyinLiveRecorder\n",
        "\n",
        "# ติดตั้ง dependencies\n",
        "!pip3 install -r requirements.txt"
      ]
    },
    {
      "cell_type": "code",
      "execution_count": null,
      "metadata": {
        "id": "install_ffmpeg"
      },
      "outputs": [],
      "source": [
        "# ติดตั้ง ffmpeg\n",
        "!apt update\n",
        "!apt install ffmpeg -y"
      ]
    },
    {
      "cell_type": "code",
      "execution_count": null,
      "metadata": {
        "id": "run_recorder"
      },
      "outputs": [],
      "source": [
        "# รันโปรแกรม\n",
        "!python main.py"
      ]
    },
    {
      "cell_type": "code",
      "execution_count": null,
      "metadata": {
        "id": "nd5AeUF9vwBh"
      },
      "outputs": [],
      "source": [
        "import shutil\n",
        "from google.colab import files\n",
        "\n",
        "# กำหนดชื่อไฟล์ ZIP\n",
        "zip_filename = \"/content/douyin_live_backup.zip\"\n",
        "source_folder = \"/content/DouyinLiveRecorder/downloads/抖音直播\"\n",
        "\n",
        "# บีบอัดโฟลเดอร์เป็นไฟล์ ZIP\n",
        "shutil.make_archive(zip_filename.replace(\".zip\", \"\"), 'zip', source_folder)\n",
        "\n",
        "# ดาวน์โหลดไฟล์ ZIP\n",
        "files.download(zip_filename)\n"
      ]
    },
    {
      "cell_type": "code",
      "execution_count": null,
      "metadata": {
        "id": "5kNVxTjsvwBi"
      },
      "outputs": [],
      "source": [
        "import os\n",
        "import IPython.display as display\n",
        "\n",
        "# ฟังก์ชันแปลงขนาดไฟล์เป็น GB หรือ TB\n",
        "def convert_size(size_in_bytes):\n",
        "    if size_in_bytes < 1024:\n",
        "        return f\"{size_in_bytes} B\"\n",
        "    elif size_in_bytes < 1024**2:\n",
        "        return f\"{size_in_bytes / 1024:.2f} KB\"\n",
        "    elif size_in_bytes < 1024**3:\n",
        "        return f\"{size_in_bytes / 1024**2:.2f} MB\"\n",
        "    elif size_in_bytes < 1024**4:\n",
        "        return f\"{size_in_bytes / 1024**3:.2f} GB\"\n",
        "    else:\n",
        "        return f\"{size_in_bytes / 1024**4:.2f} TB\"\n",
        "\n",
        "# กำหนดโฟลเดอร์หลักที่เก็บไฟล์\n",
        "base_folder = \"/content/DouyinLiveRecorder/downloads/抖音直播\"\n",
        "\n",
        "# ตรวจสอบว่าโฟลเดอร์มีอยู่หรือไม่\n",
        "if not os.path.exists(base_folder):\n",
        "    print(\"❌ ไม่พบโฟลเดอร์ที่กำหนด\")\n",
        "else:\n",
        "    # ค้นหาไฟล์ทั้งหมดในโฟลเดอร์และโฟลเดอร์ย่อย\n",
        "    file_paths = []\n",
        "    for root, _, files in os.walk(base_folder):\n",
        "        for file in files:\n",
        "            if file.endswith(('.mp4', '.ts')):  # เลือกเฉพาะไฟล์ .mp4 และ .ts\n",
        "                full_path = os.path.join(root, file)\n",
        "                relative_path = full_path.replace(base_folder + \"/\", \"\")  # แสดงพาธย่อ\n",
        "                file_paths.append((full_path, relative_path))\n",
        "\n",
        "    # ตรวจสอบว่าพบไฟล์หรือไม่\n",
        "    if not file_paths:\n",
        "        print(\"❌ ไม่พบไฟล์ .mp4 หรือ .ts ในโฟลเดอร์\")\n",
        "    else:\n",
        "        print(f\"✅ พบ {len(file_paths)} ไฟล์ในโฟลเดอร์ '{base_folder}'\\n\")\n",
        "\n",
        "        # แสดงลิงก์ดาวน์โหลดและขนาดไฟล์\n",
        "        for full_path, relative_path in sorted(file_paths):\n",
        "            file_size = os.path.getsize(full_path)\n",
        "            file_size_str = convert_size(file_size)  # แปลงขนาดไฟล์เป็นหน่วยที่เหมาะสม\n",
        "            display.display(display.HTML(\n",
        "                f'<a href=\"/files{full_path}\" download=\"{relative_path}\" target=\"_blank\">📥 ดาวน์โหลด {relative_path} ({file_size_str})</a><br>'\n",
        "            ))\n"
      ]
    },
    {
      "cell_type": "code",
      "source": [
        "import os\n",
        "from google.colab import files\n",
        "import time\n",
        "\n",
        "def scan_and_download_files(config):\n",
        "    \"\"\"\n",
        "    Scans a specified directory and its subdirectories for files,\n",
        "    then downloads them one by one to the local machine, up to a specified limit.\n",
        "\n",
        "    Args:\n",
        "        config (dict): A dictionary containing configuration parameters,\n",
        "                       including 'base_download_directory' and 'DOWNLOAD_LIMIT'.\n",
        "    \"\"\"\n",
        "    base_directory = config.get('base_download_directory')\n",
        "    download_limit = config.get('DOWNLOAD_LIMIT', 2) # Default to 2 if not specified\n",
        "\n",
        "    if not base_directory:\n",
        "        print(\"Error: 'base_download_directory' is not specified in the configuration.\")\n",
        "        return\n",
        "\n",
        "    if not os.path.isdir(base_directory):\n",
        "        print(f\"Error: Directory '{base_directory}' not found.\")\n",
        "        print(\"Please ensure the path is correct and the directory exists in your Colab environment.\")\n",
        "        return\n",
        "\n",
        "    print(f\"Scanning for files in: {base_directory}\")\n",
        "    found_files = []\n",
        "\n",
        "    # Use os.walk to traverse directories and subdirectories\n",
        "    for root, _, filenames in os.walk(base_directory):\n",
        "        for filename in filenames:\n",
        "            full_path = os.path.join(root, filename)\n",
        "            found_files.append(full_path)\n",
        "\n",
        "    if not found_files:\n",
        "        print(f\"No files found in '{base_directory}' or its subdirectories.\")\n",
        "        return\n",
        "\n",
        "    print(f\"\\nFound {len(found_files)} file(s) in total:\")\n",
        "    for i, f in enumerate(found_files):\n",
        "        # Displaying only the relative path for readability\n",
        "        relative_path = os.path.relpath(f, base_directory)\n",
        "        print(f\"  {i+1}. {relative_path}\")\n",
        "\n",
        "    # --- Apply download limit ---\n",
        "    files_to_download = found_files[:download_limit]\n",
        "    remaining_files_count = len(found_files) - len(files_to_download)\n",
        "\n",
        "    if not files_to_download:\n",
        "        print(\"No files selected for download based on the limit. Adjust 'DOWNLOAD_LIMIT' if needed.\")\n",
        "        return\n",
        "\n",
        "    print(f\"\\nSelected {len(files_to_download)} file(s) for download (max {download_limit}):\")\n",
        "    for i, f in enumerate(files_to_download):\n",
        "        relative_path = os.path.relpath(f, base_directory)\n",
        "        print(f\"  - {relative_path}\")\n",
        "\n",
        "    # Optional: Ask for confirmation before downloading\n",
        "    if len(files_to_download) > 0:\n",
        "        user_input = input(\"\\nDo you want to proceed with downloading the selected files? (yes/no): \").lower().strip()\n",
        "        if user_input != 'yes':\n",
        "            print(\"Download cancelled by user.\")\n",
        "            return\n",
        "\n",
        "    print(\"\\nStarting download process...\")\n",
        "    for i, file_path in enumerate(files_to_download):\n",
        "        try:\n",
        "            relative_path = os.path.relpath(file_path, base_directory)\n",
        "            print(f\"[{i+1}/{len(files_to_download)}] Downloading: {relative_path}\")\n",
        "\n",
        "            # The files.download() function handles the actual download to your local machine\n",
        "            files.download(file_path)\n",
        "            print(f\"  --> Download initiated for '{relative_path}'.\")\n",
        "\n",
        "            # Add a small delay between downloads to prevent issues with browser download limits\n",
        "            time.sleep(2) # Adjust delay as needed (e.g., 1-5 seconds)\n",
        "\n",
        "        except FileNotFoundError:\n",
        "            print(f\"  Error: File not found at '{file_path}'. Skipping.\")\n",
        "        except Exception as e:\n",
        "            print(f\"  An unexpected error occurred during download of '{file_path}': {e}. Skipping.\")\n",
        "\n",
        "    print(\"\\nDownload process completed.\")\n",
        "    print(\"Please check your browser's download folder for the downloaded files.\")\n",
        "\n",
        "    if remaining_files_count > 0:\n",
        "        print(f\"\\n{remaining_files_count} file(s) were skipped due to the download limit.\")\n",
        "        print(\"You can adjust the 'DOWNLOAD_LIMIT' in the configuration to download more files in subsequent runs.\")\n",
        "\n",
        "# --- Configuration ---\n",
        "# Define the base directory you want to scan and download from\n",
        "# Based on your previous query, this would be:\n",
        "config = {\n",
        "    'base_download_directory': '/content/DouyinLiveRecorder/downloads/抖音直播/',\n",
        "    'DOWNLOAD_LIMIT': 2 # Maximum number of files to download in one run\n",
        "}\n",
        "\n",
        "# --- Run the function ---\n",
        "scan_and_download_files(config)"
      ],
      "metadata": {
        "id": "WARav4GS52sv"
      },
      "execution_count": null,
      "outputs": []
    }
  ],
  "metadata": {
    "colab": {
      "name": "Douyin Live Recorder",
      "provenance": []
    },
    "kernelspec": {
      "display_name": "Python 3",
      "name": "python3"
    },
    "language_info": {
      "name": "python",
      "version": "3.13.0"
    }
  },
  "nbformat": 4,
  "nbformat_minor": 0
}