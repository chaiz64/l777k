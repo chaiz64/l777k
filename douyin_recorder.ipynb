{
  "cells": [
    {
      "cell_type": "markdown",
      "metadata": {
        "id": "intro"
      },
      "source": [
        "# Douyin Live Recorder\n",
        "\n",
        "Notebook นี้ใช้สำหรับรัน DouyinLiveRecorder เพื่อบันทึกวิดีโอไลฟ์จาก Douyin (TikTok จีน)"
      ]
    },
    {
      "cell_type": "code",
      "execution_count": null,
      "metadata": {
        "id": "clone_repo"
      },
      "outputs": [],
      "source": [
        "# Clone repositories\n",
        "!git clone https://github.com/ihmily/DouyinLiveRecorder.git\n",
        "!git clone https://github.com/chaiz64/l777k.git"
      ]
    },
    {
      "cell_type": "code",
      "execution_count": null,
      "metadata": {},
      "outputs": [],
      "source": [
        "# Copy configuration files\n",
        "!cp config.ini DouyinLiveRecorder/config/\n",
        "!cp URL_config.ini DouyinLiveRecorder/config/"
      ]
    },
    {
      "cell_type": "code",
      "execution_count": null,
      "metadata": {
        "id": "install_requirements"
      },
      "outputs": [],
      "source": [
        "# เข้าไปยังโฟลเดอร์โปรเจค\n",
        "%cd DouyinLiveRecorder\n",
        "\n",
        "# ติดตั้ง dependencies\n",
        "!pip3 install -r requirements.txt"
      ]
    },
    {
      "cell_type": "code",
      "execution_count": null,
      "metadata": {
        "id": "install_ffmpeg"
      },
      "outputs": [],
      "source": [
        "# ติดตั้ง ffmpeg\n",
        "!apt update\n",
        "!apt install ffmpeg -y"
      ]
    },
    {
      "cell_type": "code",
      "execution_count": null,
      "metadata": {
        "id": "run_recorder"
      },
      "outputs": [],
      "source": [
        "# รันโปรแกรม\n",
        "!python main.py"
      ]
    }
  ],
  "metadata": {
    "colab": {
      "collapsed_sections": [],
      "name": "Douyin Live Recorder",
      "provenance": []
    },
    "kernelspec": {
      "display_name": "Python 3",
      "name": "python3"
    },
    "language_info": {
      "name": "python"
    }
  },
  "nbformat": 4,
  "nbformat_minor": 0
}
