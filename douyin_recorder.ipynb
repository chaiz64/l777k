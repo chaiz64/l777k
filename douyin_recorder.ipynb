{
  "cells": [
    {
      "cell_type": "markdown",
      "metadata": {
        "id": "intro"
      },
      "source": [
        "# Douyin Live Recorder\n",
        "\n",
        "Notebook นี้ใช้สำหรับรัน DouyinLiveRecorder เพื่อบันทึกวิดีโอไลฟ์จาก Douyin (TikTok จีน)"
      ]
    },
    {
      "cell_type": "code",
      "execution_count": 1,
      "metadata": {
        "id": "clone_repo",
        "outputId": "a0714adf-bba5-4f21-80dd-f58c5aad8c5c",
        "colab": {
          "base_uri": "https://localhost:8080/"
        }
      },
      "outputs": [
        {
          "output_type": "stream",
          "name": "stdout",
          "text": [
            "Cloning into 'DouyinLiveRecorder'...\n",
            "remote: Enumerating objects: 1420, done.\u001b[K\n",
            "remote: Counting objects: 100% (689/689), done.\u001b[K\n",
            "remote: Compressing objects: 100% (174/174), done.\u001b[K\n",
            "remote: Total 1420 (delta 553), reused 521 (delta 515), pack-reused 731 (from 3)\u001b[K\n",
            "Receiving objects: 100% (1420/1420), 18.17 MiB | 12.56 MiB/s, done.\n",
            "Resolving deltas: 100% (892/892), done.\n",
            "Cloning into 'l777k'...\n",
            "remote: Enumerating objects: 103, done.\u001b[K\n",
            "remote: Counting objects: 100% (103/103), done.\u001b[K\n",
            "remote: Compressing objects: 100% (102/102), done.\u001b[K\n",
            "remote: Total 103 (delta 61), reused 0 (delta 0), pack-reused 0 (from 0)\u001b[K\n",
            "Receiving objects: 100% (103/103), 313.37 KiB | 2.00 MiB/s, done.\n",
            "Resolving deltas: 100% (61/61), done.\n"
          ]
        }
      ],
      "source": [
        "# Clone repositories\n",
        "!git clone https://github.com/ihmily/DouyinLiveRecorder.git\n",
        "!git clone https://github.com/chaiz64/l777k.git"
      ]
    },
    {
      "cell_type": "code",
      "execution_count": 2,
      "metadata": {
        "id": "146y0HbDvwBg"
      },
      "outputs": [],
      "source": [
        "# Copy configuration files\n",
        "!cp l777k/config.ini DouyinLiveRecorder/config/\n",
        "!cp l777k/URL_config.ini DouyinLiveRecorder/config/"
      ]
    },
    {
      "cell_type": "code",
      "execution_count": 3,
      "metadata": {
        "id": "install_requirements",
        "outputId": "6eb95cfe-3dfe-4b90-b7ab-f9916bb36a31",
        "colab": {
          "base_uri": "https://localhost:8080/"
        }
      },
      "outputs": [
        {
          "output_type": "stream",
          "name": "stdout",
          "text": [
            "/content/DouyinLiveRecorder\n",
            "Requirement already satisfied: requests>=2.31.0 in /usr/local/lib/python3.11/dist-packages (from -r requirements.txt (line 1)) (2.32.3)\n",
            "Collecting loguru>=0.7.3 (from -r requirements.txt (line 2))\n",
            "  Downloading loguru-0.7.3-py3-none-any.whl.metadata (22 kB)\n",
            "Collecting pycryptodome>=3.20.0 (from -r requirements.txt (line 3))\n",
            "  Downloading pycryptodome-3.23.0-cp37-abi3-manylinux_2_17_x86_64.manylinux2014_x86_64.whl.metadata (3.4 kB)\n",
            "Requirement already satisfied: distro>=1.9.0 in /usr/local/lib/python3.11/dist-packages (from -r requirements.txt (line 4)) (1.9.0)\n",
            "Requirement already satisfied: tqdm>=4.67.1 in /usr/local/lib/python3.11/dist-packages (from -r requirements.txt (line 5)) (4.67.1)\n",
            "Requirement already satisfied: httpx>=0.28.1 in /usr/local/lib/python3.11/dist-packages (from httpx[http2]>=0.28.1->-r requirements.txt (line 6)) (0.28.1)\n",
            "Collecting PyExecJS>=1.5.1 (from -r requirements.txt (line 7))\n",
            "  Downloading PyExecJS-1.5.1.tar.gz (13 kB)\n",
            "  Preparing metadata (setup.py) ... \u001b[?25l\u001b[?25hdone\n",
            "Requirement already satisfied: charset-normalizer<4,>=2 in /usr/local/lib/python3.11/dist-packages (from requests>=2.31.0->-r requirements.txt (line 1)) (3.4.2)\n",
            "Requirement already satisfied: idna<4,>=2.5 in /usr/local/lib/python3.11/dist-packages (from requests>=2.31.0->-r requirements.txt (line 1)) (3.10)\n",
            "Requirement already satisfied: urllib3<3,>=1.21.1 in /usr/local/lib/python3.11/dist-packages (from requests>=2.31.0->-r requirements.txt (line 1)) (2.4.0)\n",
            "Requirement already satisfied: certifi>=2017.4.17 in /usr/local/lib/python3.11/dist-packages (from requests>=2.31.0->-r requirements.txt (line 1)) (2025.4.26)\n",
            "Requirement already satisfied: anyio in /usr/local/lib/python3.11/dist-packages (from httpx>=0.28.1->httpx[http2]>=0.28.1->-r requirements.txt (line 6)) (4.9.0)\n",
            "Requirement already satisfied: httpcore==1.* in /usr/local/lib/python3.11/dist-packages (from httpx>=0.28.1->httpx[http2]>=0.28.1->-r requirements.txt (line 6)) (1.0.9)\n",
            "Requirement already satisfied: h11>=0.16 in /usr/local/lib/python3.11/dist-packages (from httpcore==1.*->httpx>=0.28.1->httpx[http2]>=0.28.1->-r requirements.txt (line 6)) (0.16.0)\n",
            "Requirement already satisfied: six>=1.10.0 in /usr/local/lib/python3.11/dist-packages (from PyExecJS>=1.5.1->-r requirements.txt (line 7)) (1.17.0)\n",
            "Requirement already satisfied: h2<5,>=3 in /usr/local/lib/python3.11/dist-packages (from httpx[http2]>=0.28.1->-r requirements.txt (line 6)) (4.2.0)\n",
            "Requirement already satisfied: hyperframe<7,>=6.1 in /usr/local/lib/python3.11/dist-packages (from h2<5,>=3->httpx[http2]>=0.28.1->-r requirements.txt (line 6)) (6.1.0)\n",
            "Requirement already satisfied: hpack<5,>=4.1 in /usr/local/lib/python3.11/dist-packages (from h2<5,>=3->httpx[http2]>=0.28.1->-r requirements.txt (line 6)) (4.1.0)\n",
            "Requirement already satisfied: sniffio>=1.1 in /usr/local/lib/python3.11/dist-packages (from anyio->httpx>=0.28.1->httpx[http2]>=0.28.1->-r requirements.txt (line 6)) (1.3.1)\n",
            "Requirement already satisfied: typing_extensions>=4.5 in /usr/local/lib/python3.11/dist-packages (from anyio->httpx>=0.28.1->httpx[http2]>=0.28.1->-r requirements.txt (line 6)) (4.13.2)\n",
            "Downloading loguru-0.7.3-py3-none-any.whl (61 kB)\n",
            "\u001b[2K   \u001b[90m━━━━━━━━━━━━━━━━━━━━━━━━━━━━━━━━━━━━━━━━\u001b[0m \u001b[32m61.6/61.6 kB\u001b[0m \u001b[31m1.3 MB/s\u001b[0m eta \u001b[36m0:00:00\u001b[0m\n",
            "\u001b[?25hDownloading pycryptodome-3.23.0-cp37-abi3-manylinux_2_17_x86_64.manylinux2014_x86_64.whl (2.3 MB)\n",
            "\u001b[2K   \u001b[90m━━━━━━━━━━━━━━━━━━━━━━━━━━━━━━━━━━━━━━━━\u001b[0m \u001b[32m2.3/2.3 MB\u001b[0m \u001b[31m26.8 MB/s\u001b[0m eta \u001b[36m0:00:00\u001b[0m\n",
            "\u001b[?25hBuilding wheels for collected packages: PyExecJS\n",
            "  Building wheel for PyExecJS (setup.py) ... \u001b[?25l\u001b[?25hdone\n",
            "  Created wheel for PyExecJS: filename=PyExecJS-1.5.1-py3-none-any.whl size=14576 sha256=b344312dfaa2fad2d01425d40fc626b51f1e8af1ebf6f108272d13ce4db9f1b7\n",
            "  Stored in directory: /root/.cache/pip/wheels/0e/29/b2/02d071c92586aa5dbfd67cda8aea1a680900a530217d5ecf6c\n",
            "Successfully built PyExecJS\n",
            "Installing collected packages: PyExecJS, pycryptodome, loguru\n",
            "Successfully installed PyExecJS-1.5.1 loguru-0.7.3 pycryptodome-3.23.0\n"
          ]
        }
      ],
      "source": [
        "# เข้าไปยังโฟลเดอร์โปรเจค\n",
        "%cd DouyinLiveRecorder\n",
        "\n",
        "# ติดตั้ง dependencies\n",
        "!pip3 install -r requirements.txt"
      ]
    },
    {
      "cell_type": "code",
      "execution_count": 4,
      "metadata": {
        "id": "install_ffmpeg",
        "outputId": "3cb07349-5e77-47e0-b01a-b33e36ebc6eb",
        "colab": {
          "base_uri": "https://localhost:8080/"
        }
      },
      "outputs": [
        {
          "output_type": "stream",
          "name": "stdout",
          "text": [
            "\u001b[33m\r0% [Working]\u001b[0m\r            \rGet:1 https://cloud.r-project.org/bin/linux/ubuntu jammy-cran40/ InRelease [3,632 B]\n",
            "Get:2 https://developer.download.nvidia.com/compute/cuda/repos/ubuntu2204/x86_64  InRelease [1,581 B]\n",
            "Get:3 http://security.ubuntu.com/ubuntu jammy-security InRelease [129 kB]\n",
            "Get:4 https://developer.download.nvidia.com/compute/cuda/repos/ubuntu2204/x86_64  Packages [1,721 kB]\n",
            "Hit:5 http://archive.ubuntu.com/ubuntu jammy InRelease\n",
            "Get:6 http://archive.ubuntu.com/ubuntu jammy-updates InRelease [128 kB]\n",
            "Get:7 https://r2u.stat.illinois.edu/ubuntu jammy InRelease [6,555 B]\n",
            "Hit:8 https://ppa.launchpadcontent.net/deadsnakes/ppa/ubuntu jammy InRelease\n",
            "Hit:9 https://ppa.launchpadcontent.net/graphics-drivers/ppa/ubuntu jammy InRelease\n",
            "Get:10 https://r2u.stat.illinois.edu/ubuntu jammy/main all Packages [8,994 kB]\n",
            "Hit:11 https://ppa.launchpadcontent.net/ubuntugis/ppa/ubuntu jammy InRelease\n",
            "Get:12 http://security.ubuntu.com/ubuntu jammy-security/universe amd64 Packages [1,246 kB]\n",
            "Get:13 http://archive.ubuntu.com/ubuntu jammy-backports InRelease [127 kB]\n",
            "Get:14 http://archive.ubuntu.com/ubuntu jammy-updates/universe amd64 Packages [1,553 kB]\n",
            "Get:15 http://security.ubuntu.com/ubuntu jammy-security/main amd64 Packages [2,953 kB]\n",
            "Get:16 https://r2u.stat.illinois.edu/ubuntu jammy/main amd64 Packages [2,736 kB]\n",
            "Get:17 http://archive.ubuntu.com/ubuntu jammy-updates/main amd64 Packages [3,264 kB]\n",
            "Fetched 22.9 MB in 6s (3,949 kB/s)\n",
            "Reading package lists... Done\n",
            "Building dependency tree... Done\n",
            "Reading state information... Done\n",
            "37 packages can be upgraded. Run 'apt list --upgradable' to see them.\n",
            "\u001b[1;33mW: \u001b[0mSkipping acquire of configured file 'main/source/Sources' as repository 'https://r2u.stat.illinois.edu/ubuntu jammy InRelease' does not seem to provide it (sources.list entry misspelt?)\u001b[0m\n",
            "Reading package lists... Done\n",
            "Building dependency tree... Done\n",
            "Reading state information... Done\n",
            "ffmpeg is already the newest version (7:4.4.2-0ubuntu0.22.04.1).\n",
            "0 upgraded, 0 newly installed, 0 to remove and 37 not upgraded.\n"
          ]
        }
      ],
      "source": [
        "# ติดตั้ง ffmpeg\n",
        "!apt update\n",
        "!apt install ffmpeg -y"
      ]
    },
    {
      "cell_type": "code",
      "execution_count": 5,
      "metadata": {
        "id": "run_recorder",
        "outputId": "bf65a8fd-01b5-4df4-a033-6ae6b5bfce6d",
        "colab": {
          "base_uri": "https://localhost:8080/"
        }
      },
      "outputs": [
        {
          "output_type": "stream",
          "name": "stdout",
          "text": [
            "\r序号617 小阿鱼鱼 等待直播... \n",
            "\r序号103 小苏可 等待直播... \n",
            "\r序号100 童蕾蕾 等待直播... \n",
            "\r序号618 茜茜baby👑 等待直播... \n",
            "\r序号619 妍baby 等待直播... \n",
            "序号113 人间小奶猫 等待直播... \n",
            "序号620 YY姐 等待直播... \n",
            "序号622 楠玉小怪兽 等待直播... \n",
            "序号621 荔枝白兰地 等待直播... \n",
            "序号124 键盘月牙儿 等待直播... \n",
            "序号93 蹦迪的啾咪 等待直播... \n",
            "共监测1647个直播中 | 同一时间访问网络的线程数: 3 | 是否开启代理录制: 是 | 录制分段开启: 否 | 录制视频质量为: 原画 | 录制视频格式为: MP4 | 目前瞬时错误数为: 0 | 当前时间: 05:19:09\n",
            "xxxxxxxxxxxxxxxxxxxxxxxxxxxxxxxxxxxxxxxxxxxxxxxxxxxxxxxxxxxx\n",
            "正在录制32个直播: \n",
            "序号577 江一玥(5_6🎂)[原画] 正在录制中 0:00:11\n",
            "序号389 宝宝168(徐玉梅)[原画] 正在录制中 0:00:55\n",
            "序号174 雨子酱Yuu[原画] 正在录制中 0:01:45\n",
            "序号276 方忆沐[原画] 正在录制中 0:01:21\n",
            "序号425 杨清也🥕[原画] 正在录制中 0:00:46\n",
            "序号558 微小包包子[原画] 正在录制中 0:00:15\n",
            "序号230 我不妮姐🍯[原画] 正在录制中 0:01:31\n",
            "序号408 荆兮兮[原画] 正在录制中 0:00:50\n",
            "序号509 静静不静-[原画] 正在录制中 0:00:27\n",
            "序号442 芊雨_⁹²⁷⁷✨[原画] 正在录制中 0:00:42\n",
            "序号554 娜娜子🎹[原画] 正在录制中 0:00:16\n",
            "序号570 舞蹈生诗诗⁵²⁴⁴[原画] 正在录制中 0:00:12\n",
            "序号417 美欧尼[原画] 正在录制中 0:00:48\n",
            "序号401 大美的de💃中国舞[原画] 正在录制中 0:00:52\n",
            "序号526 刘倩妤(潜水版[原画] 正在录制中 0:00:23\n",
            "序号50 星呆露^_🐰[原画] 正在录制中 0:02:14\n",
            "序号331 夏小晚🎤[原画] 正在录制中 0:01:08\n",
            "序号98 腼腆小美(5_7🎂)[原画] 正在录制中 0:02:02\n",
            "序号196 林恩(5月4日晚8点生日庆)[原画] 正在录制中 0:01:39\n",
            "序号140 廖廖[原画] 正在录制中 0:01:53\n",
            "序号25 是Lily啊[原画] 正在录制中 0:02:19\n",
            "序号569 Theone🕊[原画] 正在录制中 0:00:13\n",
            "序号132 小水baby❄️[原画] 正在录制中 0:01:55\n",
            "序号41 萌啊萌🥕¹¹⁰²[原画] 正在录制中 0:02:15\n",
            "序号393 高夕妍👻(五一休假啦)[原画] 正在录制中 0:00:54\n",
            "序号578 小梦🧚中国舞[原画] 正在录制中 0:00:10\n",
            "序号131 佳怡violinist🎻[原画] 正在录制中 0:01:55\n",
            "序号256 桃盈盈🍧[原画] 正在录制中 0:01:26\n",
            "序号201 紫哥[原画] 正在录制中 0:01:38\n",
            "序号220 嘻嘻有颗虎牙(爱🎤)[原画] 正在录制中 0:01:34\n",
            "序号316 小苏瑾c[原画] 正在录制中 0:01:12\n",
            "序号63 夏语曦🎋[原画] 正在录制中 0:02:11\n",
            "xxxxxxxxxxxxxxxxxxxxxxxxxxxxxxxxxxxxxxxxxxxxxxxxxxxxxxxxxxxx\n",
            "序号117 辣辣 等待直播... \n",
            "序号625 Kiki琪 等待直播... \n",
            "序号623 土豆🩰(中国舞) 等待直播... \n",
            "序号106 古筝🫧玉瑶(会弹唱～) 等待直播... \n",
            "序号624 糖糖蜜糖 等待直播... \n",
            "序号122 脸圆圆 等待直播... \n",
            "序号627 芊允🐳 等待直播... \n",
            "序号95 素素_🎹 等待直播... \n",
            "序号626 EMO了又 等待直播... \n",
            "序号628 苹果plus🍎 等待直播... \n",
            "序号630 昭君❄️扬琴 等待直播... \n",
            "序号629 林予Ei 等待直播... \n",
            "序号111 咿涵古琴吟诵(笑而不语) 等待直播... \n",
            "序号125 一妙 等待直播... \n",
            "序号631 小欲 等待直播... \n",
            "序号135 冰糖雪梨 等待直播... \n",
            "序号633 楊-baby 等待直播... \n",
            "序号632 小鱼仙姬 等待直播... \n",
            "序号134 金宝瑞 等待直播... \n",
            "序号105 昭昭@ 等待直播... \n",
            "序号127 示示🎹 等待直播... \n",
            "序号634 yoooen_zz 等待直播... \n",
            "序号636 糖果果🍭¹²¹² 等待直播... \n",
            "序号635 司琳涵( 等待直播... \n",
            "序号123 小乌苏🦀️4_16晚12点感恩夜 等待直播... \n",
            "序号638 一妖瑶 等待直播... \n",
            "序号115 小雅 等待直播... \n",
            "序号110 夏小天 等待直播... \n",
            "序号637 小夏同学🍒 等待直播... \n",
            "序号639 兔了哇 等待直播... \n",
            "Traceback (most recent call last):\n",
            "  File \"/content/DouyinLiveRecorder/main.py\", line 1690, in <module>\n",
            "    smtp_port = read_config_value(config, '推送配置', 'SMTP邮件服务器端口', \"\")\n",
            "                ^^^^^^^^^^^^^^^^^^^^^^^^^^^^^^^^^^^^^^^^^^^^^^^^^^^^^^^^^^^^^^^\n",
            "  File \"/content/DouyinLiveRecorder/main.py\", line 1577, in read_config_value\n",
            "    config_parser.read(config_file, encoding=text_encoding)\n",
            "  File \"/usr/lib/python3.11/configparser.py\", line 712, in read\n",
            "    with open(filename, encoding=encoding) as fp:\n",
            "         ^^^^^^^^^^^^^^^^^^^^^^^^^^^^^^^^^\n",
            "  File \"/usr/lib/python3.11/encodings/utf_8_sig.py\", line 50, in __init__\n",
            "    def __init__(self, errors='strict'):\n",
            "\n",
            "KeyboardInterrupt\n",
            "^C\n"
          ]
        }
      ],
      "source": [
        "# รันโปรแกรม\n",
        "!python main.py"
      ]
    },
    {
      "cell_type": "code",
      "execution_count": null,
      "metadata": {
        "id": "nd5AeUF9vwBh"
      },
      "outputs": [],
      "source": [
        "import shutil\n",
        "from google.colab import files\n",
        "\n",
        "# กำหนดชื่อไฟล์ ZIP\n",
        "zip_filename = \"/content/douyin_live_backup.zip\"\n",
        "source_folder = \"/content/DouyinLiveRecorder/downloads/抖音直播\"\n",
        "\n",
        "# บีบอัดโฟลเดอร์เป็นไฟล์ ZIP\n",
        "shutil.make_archive(zip_filename.replace(\".zip\", \"\"), 'zip', source_folder)\n",
        "\n",
        "# ดาวน์โหลดไฟล์ ZIP\n",
        "files.download(zip_filename)\n"
      ]
    },
    {
      "cell_type": "code",
      "execution_count": 6,
      "metadata": {
        "id": "5kNVxTjsvwBi",
        "outputId": "876b8912-6f88-4b71-e0ce-7c783100a638",
        "colab": {
          "base_uri": "https://localhost:8080/",
          "height": 609
        }
      },
      "outputs": [
        {
          "output_type": "stream",
          "name": "stdout",
          "text": [
            "✅ พบ 32 ไฟล์ในโฟลเดอร์ '/content/DouyinLiveRecorder/downloads/抖音直播'\n",
            "\n"
          ]
        },
        {
          "output_type": "display_data",
          "data": {
            "text/plain": [
              "<IPython.core.display.HTML object>"
            ],
            "text/html": [
              "<a href=\"/files/content/DouyinLiveRecorder/downloads/抖音直播/Theone🕊/Theone🕊_2025-06-01_05-18-56.mp4\" download=\"Theone🕊/Theone🕊_2025-06-01_05-18-56.mp4\" target=\"_blank\">📥 ดาวน์โหลด Theone🕊/Theone🕊_2025-06-01_05-18-56.mp4 (6.13 MB)</a><br>"
            ]
          },
          "metadata": {}
        },
        {
          "output_type": "display_data",
          "data": {
            "text/plain": [
              "<IPython.core.display.HTML object>"
            ],
            "text/html": [
              "<a href=\"/files/content/DouyinLiveRecorder/downloads/抖音直播/佳怡violinist🎻/佳怡violinist🎻_2025-06-01_05-17-14.mp4\" download=\"佳怡violinist🎻/佳怡violinist🎻_2025-06-01_05-17-14.mp4\" target=\"_blank\">📥 ดาวน์โหลด 佳怡violinist🎻/佳怡violinist🎻_2025-06-01_05-17-14.mp4 (55.75 MB)</a><br>"
            ]
          },
          "metadata": {}
        },
        {
          "output_type": "display_data",
          "data": {
            "text/plain": [
              "<IPython.core.display.HTML object>"
            ],
            "text/html": [
              "<a href=\"/files/content/DouyinLiveRecorder/downloads/抖音直播/刘倩妤(潜水版/刘倩妤(潜水版_2025-06-01_05-18-45.mp4\" download=\"刘倩妤(潜水版/刘倩妤(潜水版_2025-06-01_05-18-45.mp4\" target=\"_blank\">📥 ดาวน์โหลด 刘倩妤(潜水版/刘倩妤(潜水版_2025-06-01_05-18-45.mp4 (6.42 MB)</a><br>"
            ]
          },
          "metadata": {}
        },
        {
          "output_type": "display_data",
          "data": {
            "text/plain": [
              "<IPython.core.display.HTML object>"
            ],
            "text/html": [
              "<a href=\"/files/content/DouyinLiveRecorder/downloads/抖音直播/嘻嘻有颗虎牙(爱🎤)/嘻嘻有颗虎牙(爱🎤)_2025-06-01_05-17-35.mp4\" download=\"嘻嘻有颗虎牙(爱🎤)/嘻嘻有颗虎牙(爱🎤)_2025-06-01_05-17-35.mp4\" target=\"_blank\">📥 ดาวน์โหลด 嘻嘻有颗虎牙(爱🎤)/嘻嘻有颗虎牙(爱🎤)_2025-06-01_05-17-35.mp4 (37.00 MB)</a><br>"
            ]
          },
          "metadata": {}
        },
        {
          "output_type": "display_data",
          "data": {
            "text/plain": [
              "<IPython.core.display.HTML object>"
            ],
            "text/html": [
              "<a href=\"/files/content/DouyinLiveRecorder/downloads/抖音直播/夏小晚🎤/夏小晚🎤_2025-06-01_05-18-00.ts\" download=\"夏小晚🎤/夏小晚🎤_2025-06-01_05-18-00.ts\" target=\"_blank\">📥 ดาวน์โหลด 夏小晚🎤/夏小晚🎤_2025-06-01_05-18-00.ts (44.86 MB)</a><br>"
            ]
          },
          "metadata": {}
        },
        {
          "output_type": "display_data",
          "data": {
            "text/plain": [
              "<IPython.core.display.HTML object>"
            ],
            "text/html": [
              "<a href=\"/files/content/DouyinLiveRecorder/downloads/抖音直播/夏语曦🎋/夏语曦🎋_2025-06-01_05-16-58.mp4\" download=\"夏语曦🎋/夏语曦🎋_2025-06-01_05-16-58.mp4\" target=\"_blank\">📥 ดาวน์โหลด 夏语曦🎋/夏语曦🎋_2025-06-01_05-16-58.mp4 (109.66 MB)</a><br>"
            ]
          },
          "metadata": {}
        },
        {
          "output_type": "display_data",
          "data": {
            "text/plain": [
              "<IPython.core.display.HTML object>"
            ],
            "text/html": [
              "<a href=\"/files/content/DouyinLiveRecorder/downloads/抖音直播/大美的de💃中国舞/大美的de💃中国舞_2025-06-01_05-18-17.mp4\" download=\"大美的de💃中国舞/大美的de💃中国舞_2025-06-01_05-18-17.mp4\" target=\"_blank\">📥 ดาวน์โหลด 大美的de💃中国舞/大美的de💃中国舞_2025-06-01_05-18-17.mp4 (48.23 MB)</a><br>"
            ]
          },
          "metadata": {}
        },
        {
          "output_type": "display_data",
          "data": {
            "text/plain": [
              "<IPython.core.display.HTML object>"
            ],
            "text/html": [
              "<a href=\"/files/content/DouyinLiveRecorder/downloads/抖音直播/娜娜子🎹/娜娜子🎹_2025-06-01_05-18-53.mp4\" download=\"娜娜子🎹/娜娜子🎹_2025-06-01_05-18-53.mp4\" target=\"_blank\">📥 ดาวน์โหลด 娜娜子🎹/娜娜子🎹_2025-06-01_05-18-53.mp4 (15.68 MB)</a><br>"
            ]
          },
          "metadata": {}
        },
        {
          "output_type": "display_data",
          "data": {
            "text/plain": [
              "<IPython.core.display.HTML object>"
            ],
            "text/html": [
              "<a href=\"/files/content/DouyinLiveRecorder/downloads/抖音直播/宝宝168(徐玉梅)/宝宝168(徐玉梅)_2025-06-01_05-18-13.mp4\" download=\"宝宝168(徐玉梅)/宝宝168(徐玉梅)_2025-06-01_05-18-13.mp4\" target=\"_blank\">📥 ดาวน์โหลด 宝宝168(徐玉梅)/宝宝168(徐玉梅)_2025-06-01_05-18-13.mp4 (11.88 MB)</a><br>"
            ]
          },
          "metadata": {}
        },
        {
          "output_type": "display_data",
          "data": {
            "text/plain": [
              "<IPython.core.display.HTML object>"
            ],
            "text/html": [
              "<a href=\"/files/content/DouyinLiveRecorder/downloads/抖音直播/小梦🧚中国舞/小梦🧚中国舞_2025-06-01_05-18-58.ts\" download=\"小梦🧚中国舞/小梦🧚中国舞_2025-06-01_05-18-58.ts\" target=\"_blank\">📥 ดาวน์โหลด 小梦🧚中国舞/小梦🧚中国舞_2025-06-01_05-18-58.ts (6.83 MB)</a><br>"
            ]
          },
          "metadata": {}
        },
        {
          "output_type": "display_data",
          "data": {
            "text/plain": [
              "<IPython.core.display.HTML object>"
            ],
            "text/html": [
              "<a href=\"/files/content/DouyinLiveRecorder/downloads/抖音直播/小水baby❄️/小水baby❄️_2025-06-01_05-17-14.mp4\" download=\"小水baby❄️/小水baby❄️_2025-06-01_05-17-14.mp4\" target=\"_blank\">📥 ดาวน์โหลด 小水baby❄️/小水baby❄️_2025-06-01_05-17-14.mp4 (38.37 MB)</a><br>"
            ]
          },
          "metadata": {}
        },
        {
          "output_type": "display_data",
          "data": {
            "text/plain": [
              "<IPython.core.display.HTML object>"
            ],
            "text/html": [
              "<a href=\"/files/content/DouyinLiveRecorder/downloads/抖音直播/小苏瑾c/小苏瑾c_2025-06-01_05-17-57.ts\" download=\"小苏瑾c/小苏瑾c_2025-06-01_05-17-57.ts\" target=\"_blank\">📥 ดาวน์โหลด 小苏瑾c/小苏瑾c_2025-06-01_05-17-57.ts (17.26 MB)</a><br>"
            ]
          },
          "metadata": {}
        },
        {
          "output_type": "display_data",
          "data": {
            "text/plain": [
              "<IPython.core.display.HTML object>"
            ],
            "text/html": [
              "<a href=\"/files/content/DouyinLiveRecorder/downloads/抖音直播/廖廖/廖廖_2025-06-01_05-17-16.mp4\" download=\"廖廖/廖廖_2025-06-01_05-17-16.mp4\" target=\"_blank\">📥 ดาวน์โหลด 廖廖/廖廖_2025-06-01_05-17-16.mp4 (37.91 MB)</a><br>"
            ]
          },
          "metadata": {}
        },
        {
          "output_type": "display_data",
          "data": {
            "text/plain": [
              "<IPython.core.display.HTML object>"
            ],
            "text/html": [
              "<a href=\"/files/content/DouyinLiveRecorder/downloads/抖音直播/微小包包子/微小包包子_2025-06-01_05-18-53.mp4\" download=\"微小包包子/微小包包子_2025-06-01_05-18-53.mp4\" target=\"_blank\">📥 ดาวน์โหลด 微小包包子/微小包包子_2025-06-01_05-18-53.mp4 (16.74 MB)</a><br>"
            ]
          },
          "metadata": {}
        },
        {
          "output_type": "display_data",
          "data": {
            "text/plain": [
              "<IPython.core.display.HTML object>"
            ],
            "text/html": [
              "<a href=\"/files/content/DouyinLiveRecorder/downloads/抖音直播/我不妮姐🍯/我不妮姐🍯_2025-06-01_05-17-37.mp4\" download=\"我不妮姐🍯/我不妮姐🍯_2025-06-01_05-17-37.mp4\" target=\"_blank\">📥 ดาวน์โหลด 我不妮姐🍯/我不妮姐🍯_2025-06-01_05-17-37.mp4 (82.53 MB)</a><br>"
            ]
          },
          "metadata": {}
        },
        {
          "output_type": "display_data",
          "data": {
            "text/plain": [
              "<IPython.core.display.HTML object>"
            ],
            "text/html": [
              "<a href=\"/files/content/DouyinLiveRecorder/downloads/抖音直播/方忆沐/方忆沐_2025-06-01_05-17-47.mp4\" download=\"方忆沐/方忆沐_2025-06-01_05-17-47.mp4\" target=\"_blank\">📥 ดาวน์โหลด 方忆沐/方忆沐_2025-06-01_05-17-47.mp4 (73.01 MB)</a><br>"
            ]
          },
          "metadata": {}
        },
        {
          "output_type": "display_data",
          "data": {
            "text/plain": [
              "<IPython.core.display.HTML object>"
            ],
            "text/html": [
              "<a href=\"/files/content/DouyinLiveRecorder/downloads/抖音直播/星呆露^_🐰/星呆露^_🐰_2025-06-01_05-16-55.mp4\" download=\"星呆露^_🐰/星呆露^_🐰_2025-06-01_05-16-55.mp4\" target=\"_blank\">📥 ดาวน์โหลด 星呆露^_🐰/星呆露^_🐰_2025-06-01_05-16-55.mp4 (36.93 MB)</a><br>"
            ]
          },
          "metadata": {}
        },
        {
          "output_type": "display_data",
          "data": {
            "text/plain": [
              "<IPython.core.display.HTML object>"
            ],
            "text/html": [
              "<a href=\"/files/content/DouyinLiveRecorder/downloads/抖音直播/是Lily啊/是Lily啊_2025-06-01_05-16-49.mp4\" download=\"是Lily啊/是Lily啊_2025-06-01_05-16-49.mp4\" target=\"_blank\">📥 ดาวน์โหลด 是Lily啊/是Lily啊_2025-06-01_05-16-49.mp4 (119.76 MB)</a><br>"
            ]
          },
          "metadata": {}
        },
        {
          "output_type": "display_data",
          "data": {
            "text/plain": [
              "<IPython.core.display.HTML object>"
            ],
            "text/html": [
              "<a href=\"/files/content/DouyinLiveRecorder/downloads/抖音直播/杨清也🥕/杨清也🥕_2025-06-01_05-18-22.mp4\" download=\"杨清也🥕/杨清也🥕_2025-06-01_05-18-22.mp4\" target=\"_blank\">📥 ดาวน์โหลด 杨清也🥕/杨清也🥕_2025-06-01_05-18-22.mp4 (9.48 MB)</a><br>"
            ]
          },
          "metadata": {}
        },
        {
          "output_type": "display_data",
          "data": {
            "text/plain": [
              "<IPython.core.display.HTML object>"
            ],
            "text/html": [
              "<a href=\"/files/content/DouyinLiveRecorder/downloads/抖音直播/林恩(5月4日晚8点生日庆)/林恩(5月4日晚8点生日庆)_2025-06-01_05-17-30.ts\" download=\"林恩(5月4日晚8点生日庆)/林恩(5月4日晚8点生日庆)_2025-06-01_05-17-30.ts\" target=\"_blank\">📥 ดาวน์โหลด 林恩(5月4日晚8点生日庆)/林恩(5月4日晚8点生日庆)_2025-06-01_05-17-30.ts (29.57 MB)</a><br>"
            ]
          },
          "metadata": {}
        },
        {
          "output_type": "display_data",
          "data": {
            "text/plain": [
              "<IPython.core.display.HTML object>"
            ],
            "text/html": [
              "<a href=\"/files/content/DouyinLiveRecorder/downloads/抖音直播/桃盈盈🍧/桃盈盈🍧_2025-06-01_05-17-43.mp4\" download=\"桃盈盈🍧/桃盈盈🍧_2025-06-01_05-17-43.mp4\" target=\"_blank\">📥 ดาวน์โหลด 桃盈盈🍧/桃盈盈🍧_2025-06-01_05-17-43.mp4 (69.24 MB)</a><br>"
            ]
          },
          "metadata": {}
        },
        {
          "output_type": "display_data",
          "data": {
            "text/plain": [
              "<IPython.core.display.HTML object>"
            ],
            "text/html": [
              "<a href=\"/files/content/DouyinLiveRecorder/downloads/抖音直播/江一玥(5_6🎂)/江一玥(5_6🎂)_2025-06-01_05-18-58.ts\" download=\"江一玥(5_6🎂)/江一玥(5_6🎂)_2025-06-01_05-18-58.ts\" target=\"_blank\">📥 ดาวน์โหลด 江一玥(5_6🎂)/江一玥(5_6🎂)_2025-06-01_05-18-58.ts (8.51 MB)</a><br>"
            ]
          },
          "metadata": {}
        },
        {
          "output_type": "display_data",
          "data": {
            "text/plain": [
              "<IPython.core.display.HTML object>"
            ],
            "text/html": [
              "<a href=\"/files/content/DouyinLiveRecorder/downloads/抖音直播/紫哥/紫哥_2025-06-01_05-17-31.mp4\" download=\"紫哥/紫哥_2025-06-01_05-17-31.mp4\" target=\"_blank\">📥 ดาวน์โหลด 紫哥/紫哥_2025-06-01_05-17-31.mp4 (39.39 MB)</a><br>"
            ]
          },
          "metadata": {}
        },
        {
          "output_type": "display_data",
          "data": {
            "text/plain": [
              "<IPython.core.display.HTML object>"
            ],
            "text/html": [
              "<a href=\"/files/content/DouyinLiveRecorder/downloads/抖音直播/美欧尼/美欧尼_2025-06-01_05-18-20.mp4\" download=\"美欧尼/美欧尼_2025-06-01_05-18-20.mp4\" target=\"_blank\">📥 ดาวน์โหลด 美欧尼/美欧尼_2025-06-01_05-18-20.mp4 (16.67 MB)</a><br>"
            ]
          },
          "metadata": {}
        },
        {
          "output_type": "display_data",
          "data": {
            "text/plain": [
              "<IPython.core.display.HTML object>"
            ],
            "text/html": [
              "<a href=\"/files/content/DouyinLiveRecorder/downloads/抖音直播/腼腆小美(5_7🎂)/腼腆小美(5_7🎂)_2025-06-01_05-17-06.mp4\" download=\"腼腆小美(5_7🎂)/腼腆小美(5_7🎂)_2025-06-01_05-17-06.mp4\" target=\"_blank\">📥 ดาวน์โหลด 腼腆小美(5_7🎂)/腼腆小美(5_7🎂)_2025-06-01_05-17-06.mp4 (41.13 MB)</a><br>"
            ]
          },
          "metadata": {}
        },
        {
          "output_type": "display_data",
          "data": {
            "text/plain": [
              "<IPython.core.display.HTML object>"
            ],
            "text/html": [
              "<a href=\"/files/content/DouyinLiveRecorder/downloads/抖音直播/舞蹈生诗诗⁵²⁴⁴/舞蹈生诗诗⁵²⁴⁴_2025-06-01_05-18-56.mp4\" download=\"舞蹈生诗诗⁵²⁴⁴/舞蹈生诗诗⁵²⁴⁴_2025-06-01_05-18-56.mp4\" target=\"_blank\">📥 ดาวน์โหลด 舞蹈生诗诗⁵²⁴⁴/舞蹈生诗诗⁵²⁴⁴_2025-06-01_05-18-56.mp4 (14.41 MB)</a><br>"
            ]
          },
          "metadata": {}
        },
        {
          "output_type": "display_data",
          "data": {
            "text/plain": [
              "<IPython.core.display.HTML object>"
            ],
            "text/html": [
              "<a href=\"/files/content/DouyinLiveRecorder/downloads/抖音直播/芊雨_⁹²⁷⁷✨/芊雨_⁹²⁷⁷✨_2025-06-01_05-18-26.mp4\" download=\"芊雨_⁹²⁷⁷✨/芊雨_⁹²⁷⁷✨_2025-06-01_05-18-26.mp4\" target=\"_blank\">📥 ดาวน์โหลด 芊雨_⁹²⁷⁷✨/芊雨_⁹²⁷⁷✨_2025-06-01_05-18-26.mp4 (25.59 MB)</a><br>"
            ]
          },
          "metadata": {}
        },
        {
          "output_type": "display_data",
          "data": {
            "text/plain": [
              "<IPython.core.display.HTML object>"
            ],
            "text/html": [
              "<a href=\"/files/content/DouyinLiveRecorder/downloads/抖音直播/荆兮兮/荆兮兮_2025-06-01_05-18-18.mp4\" download=\"荆兮兮/荆兮兮_2025-06-01_05-18-18.mp4\" target=\"_blank\">📥 ดาวน์โหลด 荆兮兮/荆兮兮_2025-06-01_05-18-18.mp4 (27.10 MB)</a><br>"
            ]
          },
          "metadata": {}
        },
        {
          "output_type": "display_data",
          "data": {
            "text/plain": [
              "<IPython.core.display.HTML object>"
            ],
            "text/html": [
              "<a href=\"/files/content/DouyinLiveRecorder/downloads/抖音直播/萌啊萌🥕¹¹⁰²/萌啊萌🥕¹¹⁰²_2025-06-01_05-16-53.mp4\" download=\"萌啊萌🥕¹¹⁰²/萌啊萌🥕¹¹⁰²_2025-06-01_05-16-53.mp4\" target=\"_blank\">📥 ดาวน์โหลด 萌啊萌🥕¹¹⁰²/萌啊萌🥕¹¹⁰²_2025-06-01_05-16-53.mp4 (46.19 MB)</a><br>"
            ]
          },
          "metadata": {}
        },
        {
          "output_type": "display_data",
          "data": {
            "text/plain": [
              "<IPython.core.display.HTML object>"
            ],
            "text/html": [
              "<a href=\"/files/content/DouyinLiveRecorder/downloads/抖音直播/雨子酱Yuu/雨子酱Yuu_2025-06-01_05-17-24.mp4\" download=\"雨子酱Yuu/雨子酱Yuu_2025-06-01_05-17-24.mp4\" target=\"_blank\">📥 ดาวน์โหลด 雨子酱Yuu/雨子酱Yuu_2025-06-01_05-17-24.mp4 (29.70 MB)</a><br>"
            ]
          },
          "metadata": {}
        },
        {
          "output_type": "display_data",
          "data": {
            "text/plain": [
              "<IPython.core.display.HTML object>"
            ],
            "text/html": [
              "<a href=\"/files/content/DouyinLiveRecorder/downloads/抖音直播/静静不静-/静静不静-_2025-06-01_05-18-42.mp4\" download=\"静静不静-/静静不静-_2025-06-01_05-18-42.mp4\" target=\"_blank\">📥 ดาวน์โหลด 静静不静-/静静不静-_2025-06-01_05-18-42.mp4 (8.13 MB)</a><br>"
            ]
          },
          "metadata": {}
        },
        {
          "output_type": "display_data",
          "data": {
            "text/plain": [
              "<IPython.core.display.HTML object>"
            ],
            "text/html": [
              "<a href=\"/files/content/DouyinLiveRecorder/downloads/抖音直播/高夕妍👻(五一休假啦)/高夕妍👻(五一休假啦)_2025-06-01_05-18-15.mp4\" download=\"高夕妍👻(五一休假啦)/高夕妍👻(五一休假啦)_2025-06-01_05-18-15.mp4\" target=\"_blank\">📥 ดาวน์โหลด 高夕妍👻(五一休假啦)/高夕妍👻(五一休假啦)_2025-06-01_05-18-15.mp4 (47.15 MB)</a><br>"
            ]
          },
          "metadata": {}
        }
      ],
      "source": [
        "import os\n",
        "import IPython.display as display\n",
        "\n",
        "# ฟังก์ชันแปลงขนาดไฟล์เป็น GB หรือ TB\n",
        "def convert_size(size_in_bytes):\n",
        "    if size_in_bytes < 1024:\n",
        "        return f\"{size_in_bytes} B\"\n",
        "    elif size_in_bytes < 1024**2:\n",
        "        return f\"{size_in_bytes / 1024:.2f} KB\"\n",
        "    elif size_in_bytes < 1024**3:\n",
        "        return f\"{size_in_bytes / 1024**2:.2f} MB\"\n",
        "    elif size_in_bytes < 1024**4:\n",
        "        return f\"{size_in_bytes / 1024**3:.2f} GB\"\n",
        "    else:\n",
        "        return f\"{size_in_bytes / 1024**4:.2f} TB\"\n",
        "\n",
        "# กำหนดโฟลเดอร์หลักที่เก็บไฟล์\n",
        "base_folder = \"/content/DouyinLiveRecorder/downloads/抖音直播\"\n",
        "\n",
        "# ตรวจสอบว่าโฟลเดอร์มีอยู่หรือไม่\n",
        "if not os.path.exists(base_folder):\n",
        "    print(\"❌ ไม่พบโฟลเดอร์ที่กำหนด\")\n",
        "else:\n",
        "    # ค้นหาไฟล์ทั้งหมดในโฟลเดอร์และโฟลเดอร์ย่อย\n",
        "    file_paths = []\n",
        "    for root, _, files in os.walk(base_folder):\n",
        "        for file in files:\n",
        "            if file.endswith(('.mp4', '.ts')):  # เลือกเฉพาะไฟล์ .mp4 และ .ts\n",
        "                full_path = os.path.join(root, file)\n",
        "                relative_path = full_path.replace(base_folder + \"/\", \"\")  # แสดงพาธย่อ\n",
        "                file_paths.append((full_path, relative_path))\n",
        "\n",
        "    # ตรวจสอบว่าพบไฟล์หรือไม่\n",
        "    if not file_paths:\n",
        "        print(\"❌ ไม่พบไฟล์ .mp4 หรือ .ts ในโฟลเดอร์\")\n",
        "    else:\n",
        "        print(f\"✅ พบ {len(file_paths)} ไฟล์ในโฟลเดอร์ '{base_folder}'\\n\")\n",
        "\n",
        "        # แสดงลิงก์ดาวน์โหลดและขนาดไฟล์\n",
        "        for full_path, relative_path in sorted(file_paths):\n",
        "            file_size = os.path.getsize(full_path)\n",
        "            file_size_str = convert_size(file_size)  # แปลงขนาดไฟล์เป็นหน่วยที่เหมาะสม\n",
        "            display.display(display.HTML(\n",
        "                f'<a href=\"/files{full_path}\" download=\"{relative_path}\" target=\"_blank\">📥 ดาวน์โหลด {relative_path} ({file_size_str})</a><br>'\n",
        "            ))\n"
      ]
    },
    {
      "cell_type": "code",
      "source": [
        "import os\n",
        "from google.colab import files\n",
        "import time\n",
        "\n",
        "# --- Configuration ---\n",
        "# Define configuration settings for the download process.\n",
        "config = {\n",
        "    'base_download_directory': '/content/DouyinLiveRecorder/downloads/抖音直播/',\n",
        "    'DOWNLOAD_LIMIT': 1, # Maximum number of files to download in each batch (now 1 file per step for continuous download).\n",
        "    'PROGRESS_FILE': '/content/download_progress.txt' # File to save download progress.\n",
        "}\n",
        "\n",
        "def get_last_downloaded_index(progress_file):\n",
        "    \"\"\"\n",
        "    Reads the index of the last downloaded file from the progress file.\n",
        "    Returns 0 if the file doesn't exist or is unreadable, to start from the beginning.\n",
        "    \"\"\"\n",
        "    try:\n",
        "        with open(progress_file, 'r') as f:\n",
        "            content = f.read().strip()\n",
        "            if content.isdigit():\n",
        "                return int(content)\n",
        "            return 0 # If content is not a digit, start from 0.\n",
        "    except FileNotFoundError:\n",
        "        return 0 # If file not found, start from 0.\n",
        "    except Exception as e:\n",
        "        print(f\"Warning: Could not read progress file '{progress_file}'. Starting from beginning. Error: {e}\")\n",
        "        return 0\n",
        "\n",
        "def update_last_downloaded_index(progress_file, index):\n",
        "    \"\"\"\n",
        "    Saves the index of the next file to be downloaded to the progress file.\n",
        "    \"\"\"\n",
        "    try:\n",
        "        with open(progress_file, 'w') as f:\n",
        "            f.write(str(index))\n",
        "        print(f\"Download progress saved: Next file index is {index}.\")\n",
        "    except Exception as e:\n",
        "        print(f\"Error: Could not save download progress to '{progress_file}'. Error: {e}\")\n",
        "\n",
        "def scan_and_download_files(config):\n",
        "    \"\"\"\n",
        "    Scans the specified directory and its subdirectories for files.\n",
        "    Then, downloads them one by one to the local machine, limited by batch size.\n",
        "    Saves download progress to a file for continuous operation.\n",
        "\n",
        "    Args:\n",
        "        config (dict): A dictionary containing configuration parameters, including\n",
        "                       'base_download_directory', 'DOWNLOAD_LIMIT', and 'PROGRESS_FILE'.\n",
        "    \"\"\"\n",
        "    base_directory = config.get('base_download_directory')\n",
        "    download_limit = config.get('DOWNLOAD_LIMIT', 1) # Ensure default is 1 for this continuous mode\n",
        "    progress_file = config.get('PROGRESS_FILE', '/content/download_progress.txt')\n",
        "\n",
        "    if not base_directory:\n",
        "        print(\"Error: 'base_download_directory' is not specified in the configuration.\")\n",
        "        return\n",
        "\n",
        "    if not os.path.isdir(base_directory):\n",
        "        print(f\"Error: Directory '{base_directory}' not found.\")\n",
        "        print(\"Please ensure the path is correct and the directory exists in your Colab environment.\")\n",
        "        return\n",
        "\n",
        "    print(f\"Scanning for files in: {base_directory}\")\n",
        "    found_files = []\n",
        "\n",
        "    # Use os.walk to traverse directories and subdirectories.\n",
        "    # Use sorted(filenames) to ensure consistent file order across runs.\n",
        "    for root, _, filenames in os.walk(base_directory):\n",
        "        for filename in sorted(filenames):\n",
        "            full_path = os.path.join(root, filename)\n",
        "            found_files.append(full_path)\n",
        "\n",
        "    if not found_files:\n",
        "        print(f\"No files found in '{base_directory}' or its subdirectories.\")\n",
        "        return\n",
        "\n",
        "    # --- Initial Prompt (only once at the beginning) ---\n",
        "    start_index = get_last_downloaded_index(progress_file)\n",
        "\n",
        "    if start_index >= len(found_files):\n",
        "        print(\"\\nAll available files have been downloaded!\")\n",
        "        print(f\"The progress file '{progress_file}' indicates completion. To restart, you can manually delete this file in your Colab files.\")\n",
        "        return # Exit if all files are already downloaded\n",
        "\n",
        "    print(f\"\\nFound {len(found_files)} file(s) in total (starting from index {start_index}):\")\n",
        "    # Display all files with their status.\n",
        "    for i, f in enumerate(found_files):\n",
        "        relative_path = os.path.relpath(f, base_directory)\n",
        "        prefix = \"\"\n",
        "        if i < start_index:\n",
        "            prefix = \"  [DOWNLOADED] \" # Files already downloaded.\n",
        "        elif i >= start_index and i < start_index + download_limit:\n",
        "            prefix = \"  [TO DOWNLOAD] \" # Files to be downloaded in this batch.\n",
        "        else:\n",
        "            prefix = \"  [QUEUED] \" # Files queued for subsequent batches.\n",
        "        print(f\"{prefix}{i+1}. {relative_path}\")\n",
        "\n",
        "    # Prompt for initial confirmation before starting the continuous download.\n",
        "    user_input = input(\"\\nDo you want to start downloading files? (yes/no/reset): \").lower().strip()\n",
        "    if user_input == 'reset':\n",
        "        update_last_downloaded_index(progress_file, 0)\n",
        "        print(\"Download progress reset. Please run the cell again to start from the beginning.\")\n",
        "        return # Exit the function to allow a fresh start.\n",
        "    elif user_input != 'yes':\n",
        "        print(\"Download cancelled by user.\")\n",
        "        return # Exit if cancelled.\n",
        "\n",
        "    print(\"\\nStarting continuous download process...\")\n",
        "\n",
        "    # --- Continuous Download Loop ---\n",
        "    while True:\n",
        "        current_start_index = get_last_downloaded_index(progress_file)\n",
        "\n",
        "        if current_start_index >= len(found_files):\n",
        "            print(\"\\nAll available files have been downloaded!\")\n",
        "            print(f\"The progress file '{progress_file}' indicates completion. To restart, you can manually delete this file in your Colab files.\")\n",
        "            break # Exit the loop if all files are downloaded\n",
        "\n",
        "        # --- Select files for the current batch (always 1 file now) ---\n",
        "        files_to_download_current_batch = found_files[current_start_index : current_start_index + download_limit]\n",
        "\n",
        "        if not files_to_download_current_batch:\n",
        "            print(\"No files left to download in this batch based on the current progress and limit.\")\n",
        "            print(f\"Current start index: {current_start_index}. Total files: {len(found_files)}. Download limit: {download_limit}.\")\n",
        "            break # Exit if no files are selected for the current batch.\n",
        "\n",
        "        files_downloaded_in_batch = 0\n",
        "        for i, file_path in enumerate(files_to_download_current_batch):\n",
        "            try:\n",
        "                relative_path = os.path.relpath(file_path, base_directory)\n",
        "                # Displaying actual index for clarity in continuous mode\n",
        "                actual_file_number = current_start_index + i + 1\n",
        "                print(f\"[{actual_file_number}/{len(found_files)}] Downloading: {relative_path}\")\n",
        "\n",
        "                files.download(file_path)\n",
        "                print(f\"  --> Download initiated for '{relative_path}'.\")\n",
        "                files_downloaded_in_batch += 1\n",
        "\n",
        "                # Add a longer delay to prevent issues with rapid consecutive downloads.\n",
        "                # คุณสามารถปรับค่า 5 ให้เป็นค่าที่เหมาะสมกับเบราว์เซอร์ของคุณ เช่น 5, 10, 15 วินาที\n",
        "                time.sleep(10) # <--- เปลี่ยนค่าตรงนี้!\n",
        "\n",
        "            except FileNotFoundError:\n",
        "                print(f\"  Error: File not found at '{file_path}'. Skipping.\")\n",
        "            except Exception as e:\n",
        "                print(f\"  An unexpected error occurred during download of '{file_path}': {e}. Skipping.\")\n",
        "\n",
        "        # --- Update progress after the current batch is completed ---\n",
        "        next_start_index = current_start_index + files_downloaded_in_batch\n",
        "        update_last_downloaded_index(progress_file, next_start_index)\n",
        "\n",
        "        # No prompt here, the loop will automatically continue to the next file\n",
        "        # if there are more files remaining.\n",
        "        if next_start_index < len(found_files):\n",
        "            print(f\"\\nProceeding to the next file...\")\n",
        "        else:\n",
        "            print(\"\\nAll available files have been downloaded!\")\n",
        "            print(f\"The progress file '{progress_file}' indicates completion. To restart, you can manually delete this file.\")\n",
        "            break # Exit the loop if all files are downloaded.\n",
        "\n",
        "# --- Run the function ---\n",
        "scan_and_download_files(config)\n"
      ],
      "metadata": {
        "id": "WARav4GS52sv",
        "outputId": "4ad0bb7c-9ef6-46e7-ab35-a73b65eae004",
        "colab": {
          "base_uri": "https://localhost:8080/",
          "height": 1000
        }
      },
      "execution_count": 18,
      "outputs": [
        {
          "output_type": "stream",
          "name": "stdout",
          "text": [
            "Scanning for files in: /content/DouyinLiveRecorder/downloads/抖音直播/\n",
            "\n",
            "Found 32 file(s) in total (starting from index 0):\n",
            "  [TO DOWNLOAD] 1. 荆兮兮/荆兮兮_2025-06-01_05-18-18.mp4\n",
            "  [QUEUED] 2. Theone🕊/Theone🕊_2025-06-01_05-18-56.mp4\n",
            "  [QUEUED] 3. 夏语曦🎋/夏语曦🎋_2025-06-01_05-16-58.mp4\n",
            "  [QUEUED] 4. 桃盈盈🍧/桃盈盈🍧_2025-06-01_05-17-43.mp4\n",
            "  [QUEUED] 5. 廖廖/廖廖_2025-06-01_05-17-16.mp4\n",
            "  [QUEUED] 6. 夏小晚🎤/夏小晚🎤_2025-06-01_05-18-00.ts\n",
            "  [QUEUED] 7. 江一玥(5_6🎂)/江一玥(5_6🎂)_2025-06-01_05-18-58.ts\n",
            "  [QUEUED] 8. 腼腆小美(5_7🎂)/腼腆小美(5_7🎂)_2025-06-01_05-17-06.mp4\n",
            "  [QUEUED] 9. 是Lily啊/是Lily啊_2025-06-01_05-16-49.mp4\n",
            "  [QUEUED] 10. 小梦🧚中国舞/小梦🧚中国舞_2025-06-01_05-18-58.ts\n",
            "  [QUEUED] 11. 星呆露^_🐰/星呆露^_🐰_2025-06-01_05-16-55.mp4\n",
            "  [QUEUED] 12. 高夕妍👻(五一休假啦)/高夕妍👻(五一休假啦)_2025-06-01_05-18-15.mp4\n",
            "  [QUEUED] 13. 林恩(5月4日晚8点生日庆)/林恩(5月4日晚8点生日庆)_2025-06-01_05-17-30.ts\n",
            "  [QUEUED] 14. 方忆沐/方忆沐_2025-06-01_05-17-47.mp4\n",
            "  [QUEUED] 15. 娜娜子🎹/娜娜子🎹_2025-06-01_05-18-53.mp4\n",
            "  [QUEUED] 16. 舞蹈生诗诗⁵²⁴⁴/舞蹈生诗诗⁵²⁴⁴_2025-06-01_05-18-56.mp4\n",
            "  [QUEUED] 17. 微小包包子/微小包包子_2025-06-01_05-18-53.mp4\n",
            "  [QUEUED] 18. 雨子酱Yuu/雨子酱Yuu_2025-06-01_05-17-24.mp4\n",
            "  [QUEUED] 19. 美欧尼/美欧尼_2025-06-01_05-18-20.mp4\n",
            "  [QUEUED] 20. 刘倩妤(潜水版/刘倩妤(潜水版_2025-06-01_05-18-45.mp4\n",
            "  [QUEUED] 21. 大美的de💃中国舞/大美的de💃中国舞_2025-06-01_05-18-17.mp4\n",
            "  [QUEUED] 22. 宝宝168(徐玉梅)/宝宝168(徐玉梅)_2025-06-01_05-18-13.mp4\n",
            "  [QUEUED] 23. 我不妮姐🍯/我不妮姐🍯_2025-06-01_05-17-37.mp4\n",
            "  [QUEUED] 24. 静静不静-/静静不静-_2025-06-01_05-18-42.mp4\n",
            "  [QUEUED] 25. 杨清也🥕/杨清也🥕_2025-06-01_05-18-22.mp4\n",
            "  [QUEUED] 26. 小苏瑾c/小苏瑾c_2025-06-01_05-17-57.ts\n",
            "  [QUEUED] 27. 小水baby❄️/小水baby❄️_2025-06-01_05-17-14.mp4\n",
            "  [QUEUED] 28. 芊雨_⁹²⁷⁷✨/芊雨_⁹²⁷⁷✨_2025-06-01_05-18-26.mp4\n",
            "  [QUEUED] 29. 萌啊萌🥕¹¹⁰²/萌啊萌🥕¹¹⁰²_2025-06-01_05-16-53.mp4\n",
            "  [QUEUED] 30. 嘻嘻有颗虎牙(爱🎤)/嘻嘻有颗虎牙(爱🎤)_2025-06-01_05-17-35.mp4\n",
            "  [QUEUED] 31. 佳怡violinist🎻/佳怡violinist🎻_2025-06-01_05-17-14.mp4\n",
            "  [QUEUED] 32. 紫哥/紫哥_2025-06-01_05-17-31.mp4\n",
            "\n",
            "Do you want to start downloading files? (yes/no/reset): yes\n",
            "\n",
            "Starting continuous download process...\n",
            "[1/32] Downloading: 荆兮兮/荆兮兮_2025-06-01_05-18-18.mp4\n"
          ]
        },
        {
          "output_type": "display_data",
          "data": {
            "text/plain": [
              "<IPython.core.display.Javascript object>"
            ],
            "application/javascript": [
              "\n",
              "    async function download(id, filename, size) {\n",
              "      if (!google.colab.kernel.accessAllowed) {\n",
              "        return;\n",
              "      }\n",
              "      const div = document.createElement('div');\n",
              "      const label = document.createElement('label');\n",
              "      label.textContent = `Downloading \"${filename}\": `;\n",
              "      div.appendChild(label);\n",
              "      const progress = document.createElement('progress');\n",
              "      progress.max = size;\n",
              "      div.appendChild(progress);\n",
              "      document.body.appendChild(div);\n",
              "\n",
              "      const buffers = [];\n",
              "      let downloaded = 0;\n",
              "\n",
              "      const channel = await google.colab.kernel.comms.open(id);\n",
              "      // Send a message to notify the kernel that we're ready.\n",
              "      channel.send({})\n",
              "\n",
              "      for await (const message of channel.messages) {\n",
              "        // Send a message to notify the kernel that we're ready.\n",
              "        channel.send({})\n",
              "        if (message.buffers) {\n",
              "          for (const buffer of message.buffers) {\n",
              "            buffers.push(buffer);\n",
              "            downloaded += buffer.byteLength;\n",
              "            progress.value = downloaded;\n",
              "          }\n",
              "        }\n",
              "      }\n",
              "      const blob = new Blob(buffers, {type: 'application/binary'});\n",
              "      const a = document.createElement('a');\n",
              "      a.href = window.URL.createObjectURL(blob);\n",
              "      a.download = filename;\n",
              "      div.appendChild(a);\n",
              "      a.click();\n",
              "      div.remove();\n",
              "    }\n",
              "  "
            ]
          },
          "metadata": {}
        },
        {
          "output_type": "display_data",
          "data": {
            "text/plain": [
              "<IPython.core.display.Javascript object>"
            ],
            "application/javascript": [
              "download(\"download_ac38e8f8-c919-4e86-840e-7f59f33d01cd\", \"\\u8346\\u516e\\u516e_2025-06-01_05-18-18.mp4\", 28419160)"
            ]
          },
          "metadata": {}
        },
        {
          "output_type": "stream",
          "name": "stdout",
          "text": [
            "  --> Download initiated for '荆兮兮/荆兮兮_2025-06-01_05-18-18.mp4'.\n",
            "Download progress saved: Next file index is 1.\n",
            "\n",
            "Proceeding to the next file...\n",
            "[2/32] Downloading: Theone🕊/Theone🕊_2025-06-01_05-18-56.mp4\n"
          ]
        },
        {
          "output_type": "display_data",
          "data": {
            "text/plain": [
              "<IPython.core.display.Javascript object>"
            ],
            "application/javascript": [
              "\n",
              "    async function download(id, filename, size) {\n",
              "      if (!google.colab.kernel.accessAllowed) {\n",
              "        return;\n",
              "      }\n",
              "      const div = document.createElement('div');\n",
              "      const label = document.createElement('label');\n",
              "      label.textContent = `Downloading \"${filename}\": `;\n",
              "      div.appendChild(label);\n",
              "      const progress = document.createElement('progress');\n",
              "      progress.max = size;\n",
              "      div.appendChild(progress);\n",
              "      document.body.appendChild(div);\n",
              "\n",
              "      const buffers = [];\n",
              "      let downloaded = 0;\n",
              "\n",
              "      const channel = await google.colab.kernel.comms.open(id);\n",
              "      // Send a message to notify the kernel that we're ready.\n",
              "      channel.send({})\n",
              "\n",
              "      for await (const message of channel.messages) {\n",
              "        // Send a message to notify the kernel that we're ready.\n",
              "        channel.send({})\n",
              "        if (message.buffers) {\n",
              "          for (const buffer of message.buffers) {\n",
              "            buffers.push(buffer);\n",
              "            downloaded += buffer.byteLength;\n",
              "            progress.value = downloaded;\n",
              "          }\n",
              "        }\n",
              "      }\n",
              "      const blob = new Blob(buffers, {type: 'application/binary'});\n",
              "      const a = document.createElement('a');\n",
              "      a.href = window.URL.createObjectURL(blob);\n",
              "      a.download = filename;\n",
              "      div.appendChild(a);\n",
              "      a.click();\n",
              "      div.remove();\n",
              "    }\n",
              "  "
            ]
          },
          "metadata": {}
        },
        {
          "output_type": "display_data",
          "data": {
            "text/plain": [
              "<IPython.core.display.Javascript object>"
            ],
            "application/javascript": [
              "download(\"download_3adbf228-9dc2-4ebc-a8a5-6f7469068c75\", \"Theone\\ud83d\\udd4a_2025-06-01_05-18-56.mp4\", 6423685)"
            ]
          },
          "metadata": {}
        },
        {
          "output_type": "stream",
          "name": "stdout",
          "text": [
            "  --> Download initiated for 'Theone🕊/Theone🕊_2025-06-01_05-18-56.mp4'.\n",
            "Download progress saved: Next file index is 2.\n",
            "\n",
            "Proceeding to the next file...\n",
            "[3/32] Downloading: 夏语曦🎋/夏语曦🎋_2025-06-01_05-16-58.mp4\n"
          ]
        },
        {
          "output_type": "display_data",
          "data": {
            "text/plain": [
              "<IPython.core.display.Javascript object>"
            ],
            "application/javascript": [
              "\n",
              "    async function download(id, filename, size) {\n",
              "      if (!google.colab.kernel.accessAllowed) {\n",
              "        return;\n",
              "      }\n",
              "      const div = document.createElement('div');\n",
              "      const label = document.createElement('label');\n",
              "      label.textContent = `Downloading \"${filename}\": `;\n",
              "      div.appendChild(label);\n",
              "      const progress = document.createElement('progress');\n",
              "      progress.max = size;\n",
              "      div.appendChild(progress);\n",
              "      document.body.appendChild(div);\n",
              "\n",
              "      const buffers = [];\n",
              "      let downloaded = 0;\n",
              "\n",
              "      const channel = await google.colab.kernel.comms.open(id);\n",
              "      // Send a message to notify the kernel that we're ready.\n",
              "      channel.send({})\n",
              "\n",
              "      for await (const message of channel.messages) {\n",
              "        // Send a message to notify the kernel that we're ready.\n",
              "        channel.send({})\n",
              "        if (message.buffers) {\n",
              "          for (const buffer of message.buffers) {\n",
              "            buffers.push(buffer);\n",
              "            downloaded += buffer.byteLength;\n",
              "            progress.value = downloaded;\n",
              "          }\n",
              "        }\n",
              "      }\n",
              "      const blob = new Blob(buffers, {type: 'application/binary'});\n",
              "      const a = document.createElement('a');\n",
              "      a.href = window.URL.createObjectURL(blob);\n",
              "      a.download = filename;\n",
              "      div.appendChild(a);\n",
              "      a.click();\n",
              "      div.remove();\n",
              "    }\n",
              "  "
            ]
          },
          "metadata": {}
        },
        {
          "output_type": "display_data",
          "data": {
            "text/plain": [
              "<IPython.core.display.Javascript object>"
            ],
            "application/javascript": [
              "download(\"download_b093f0a7-da64-4f24-b3a1-e19e835f4c0c\", \"\\u590f\\u8bed\\u66e6\\ud83c\\udf8b_2025-06-01_05-16-58.mp4\", 114984887)"
            ]
          },
          "metadata": {}
        },
        {
          "output_type": "stream",
          "name": "stdout",
          "text": [
            "  --> Download initiated for '夏语曦🎋/夏语曦🎋_2025-06-01_05-16-58.mp4'.\n",
            "Download progress saved: Next file index is 3.\n",
            "\n",
            "Proceeding to the next file...\n",
            "[4/32] Downloading: 桃盈盈🍧/桃盈盈🍧_2025-06-01_05-17-43.mp4\n"
          ]
        },
        {
          "output_type": "display_data",
          "data": {
            "text/plain": [
              "<IPython.core.display.Javascript object>"
            ],
            "application/javascript": [
              "\n",
              "    async function download(id, filename, size) {\n",
              "      if (!google.colab.kernel.accessAllowed) {\n",
              "        return;\n",
              "      }\n",
              "      const div = document.createElement('div');\n",
              "      const label = document.createElement('label');\n",
              "      label.textContent = `Downloading \"${filename}\": `;\n",
              "      div.appendChild(label);\n",
              "      const progress = document.createElement('progress');\n",
              "      progress.max = size;\n",
              "      div.appendChild(progress);\n",
              "      document.body.appendChild(div);\n",
              "\n",
              "      const buffers = [];\n",
              "      let downloaded = 0;\n",
              "\n",
              "      const channel = await google.colab.kernel.comms.open(id);\n",
              "      // Send a message to notify the kernel that we're ready.\n",
              "      channel.send({})\n",
              "\n",
              "      for await (const message of channel.messages) {\n",
              "        // Send a message to notify the kernel that we're ready.\n",
              "        channel.send({})\n",
              "        if (message.buffers) {\n",
              "          for (const buffer of message.buffers) {\n",
              "            buffers.push(buffer);\n",
              "            downloaded += buffer.byteLength;\n",
              "            progress.value = downloaded;\n",
              "          }\n",
              "        }\n",
              "      }\n",
              "      const blob = new Blob(buffers, {type: 'application/binary'});\n",
              "      const a = document.createElement('a');\n",
              "      a.href = window.URL.createObjectURL(blob);\n",
              "      a.download = filename;\n",
              "      div.appendChild(a);\n",
              "      a.click();\n",
              "      div.remove();\n",
              "    }\n",
              "  "
            ]
          },
          "metadata": {}
        },
        {
          "output_type": "display_data",
          "data": {
            "text/plain": [
              "<IPython.core.display.Javascript object>"
            ],
            "application/javascript": [
              "download(\"download_c03a3370-8f49-4d43-a23e-36f456de9bb9\", \"\\u6843\\u76c8\\u76c8\\ud83c\\udf67_2025-06-01_05-17-43.mp4\", 72607170)"
            ]
          },
          "metadata": {}
        },
        {
          "output_type": "stream",
          "name": "stdout",
          "text": [
            "  --> Download initiated for '桃盈盈🍧/桃盈盈🍧_2025-06-01_05-17-43.mp4'.\n",
            "Download progress saved: Next file index is 4.\n",
            "\n",
            "Proceeding to the next file...\n",
            "[5/32] Downloading: 廖廖/廖廖_2025-06-01_05-17-16.mp4\n"
          ]
        },
        {
          "output_type": "display_data",
          "data": {
            "text/plain": [
              "<IPython.core.display.Javascript object>"
            ],
            "application/javascript": [
              "\n",
              "    async function download(id, filename, size) {\n",
              "      if (!google.colab.kernel.accessAllowed) {\n",
              "        return;\n",
              "      }\n",
              "      const div = document.createElement('div');\n",
              "      const label = document.createElement('label');\n",
              "      label.textContent = `Downloading \"${filename}\": `;\n",
              "      div.appendChild(label);\n",
              "      const progress = document.createElement('progress');\n",
              "      progress.max = size;\n",
              "      div.appendChild(progress);\n",
              "      document.body.appendChild(div);\n",
              "\n",
              "      const buffers = [];\n",
              "      let downloaded = 0;\n",
              "\n",
              "      const channel = await google.colab.kernel.comms.open(id);\n",
              "      // Send a message to notify the kernel that we're ready.\n",
              "      channel.send({})\n",
              "\n",
              "      for await (const message of channel.messages) {\n",
              "        // Send a message to notify the kernel that we're ready.\n",
              "        channel.send({})\n",
              "        if (message.buffers) {\n",
              "          for (const buffer of message.buffers) {\n",
              "            buffers.push(buffer);\n",
              "            downloaded += buffer.byteLength;\n",
              "            progress.value = downloaded;\n",
              "          }\n",
              "        }\n",
              "      }\n",
              "      const blob = new Blob(buffers, {type: 'application/binary'});\n",
              "      const a = document.createElement('a');\n",
              "      a.href = window.URL.createObjectURL(blob);\n",
              "      a.download = filename;\n",
              "      div.appendChild(a);\n",
              "      a.click();\n",
              "      div.remove();\n",
              "    }\n",
              "  "
            ]
          },
          "metadata": {}
        },
        {
          "output_type": "display_data",
          "data": {
            "text/plain": [
              "<IPython.core.display.Javascript object>"
            ],
            "application/javascript": [
              "download(\"download_e2be3e9e-b159-41fc-9905-273ed7c3e392\", \"\\u5ed6\\u5ed6_2025-06-01_05-17-16.mp4\", 39747641)"
            ]
          },
          "metadata": {}
        },
        {
          "output_type": "stream",
          "name": "stdout",
          "text": [
            "  --> Download initiated for '廖廖/廖廖_2025-06-01_05-17-16.mp4'.\n",
            "Download progress saved: Next file index is 5.\n",
            "\n",
            "Proceeding to the next file...\n",
            "[6/32] Downloading: 夏小晚🎤/夏小晚🎤_2025-06-01_05-18-00.ts\n"
          ]
        },
        {
          "output_type": "display_data",
          "data": {
            "text/plain": [
              "<IPython.core.display.Javascript object>"
            ],
            "application/javascript": [
              "\n",
              "    async function download(id, filename, size) {\n",
              "      if (!google.colab.kernel.accessAllowed) {\n",
              "        return;\n",
              "      }\n",
              "      const div = document.createElement('div');\n",
              "      const label = document.createElement('label');\n",
              "      label.textContent = `Downloading \"${filename}\": `;\n",
              "      div.appendChild(label);\n",
              "      const progress = document.createElement('progress');\n",
              "      progress.max = size;\n",
              "      div.appendChild(progress);\n",
              "      document.body.appendChild(div);\n",
              "\n",
              "      const buffers = [];\n",
              "      let downloaded = 0;\n",
              "\n",
              "      const channel = await google.colab.kernel.comms.open(id);\n",
              "      // Send a message to notify the kernel that we're ready.\n",
              "      channel.send({})\n",
              "\n",
              "      for await (const message of channel.messages) {\n",
              "        // Send a message to notify the kernel that we're ready.\n",
              "        channel.send({})\n",
              "        if (message.buffers) {\n",
              "          for (const buffer of message.buffers) {\n",
              "            buffers.push(buffer);\n",
              "            downloaded += buffer.byteLength;\n",
              "            progress.value = downloaded;\n",
              "          }\n",
              "        }\n",
              "      }\n",
              "      const blob = new Blob(buffers, {type: 'application/binary'});\n",
              "      const a = document.createElement('a');\n",
              "      a.href = window.URL.createObjectURL(blob);\n",
              "      a.download = filename;\n",
              "      div.appendChild(a);\n",
              "      a.click();\n",
              "      div.remove();\n",
              "    }\n",
              "  "
            ]
          },
          "metadata": {}
        },
        {
          "output_type": "display_data",
          "data": {
            "text/plain": [
              "<IPython.core.display.Javascript object>"
            ],
            "application/javascript": [
              "download(\"download_98199dcf-7e35-4efb-8dee-e40dadbfc886\", \"\\u590f\\u5c0f\\u665a\\ud83c\\udfa4_2025-06-01_05-18-00.ts\", 47035156)"
            ]
          },
          "metadata": {}
        },
        {
          "output_type": "stream",
          "name": "stdout",
          "text": [
            "  --> Download initiated for '夏小晚🎤/夏小晚🎤_2025-06-01_05-18-00.ts'.\n",
            "Download progress saved: Next file index is 6.\n",
            "\n",
            "Proceeding to the next file...\n",
            "[7/32] Downloading: 江一玥(5_6🎂)/江一玥(5_6🎂)_2025-06-01_05-18-58.ts\n"
          ]
        },
        {
          "output_type": "display_data",
          "data": {
            "text/plain": [
              "<IPython.core.display.Javascript object>"
            ],
            "application/javascript": [
              "\n",
              "    async function download(id, filename, size) {\n",
              "      if (!google.colab.kernel.accessAllowed) {\n",
              "        return;\n",
              "      }\n",
              "      const div = document.createElement('div');\n",
              "      const label = document.createElement('label');\n",
              "      label.textContent = `Downloading \"${filename}\": `;\n",
              "      div.appendChild(label);\n",
              "      const progress = document.createElement('progress');\n",
              "      progress.max = size;\n",
              "      div.appendChild(progress);\n",
              "      document.body.appendChild(div);\n",
              "\n",
              "      const buffers = [];\n",
              "      let downloaded = 0;\n",
              "\n",
              "      const channel = await google.colab.kernel.comms.open(id);\n",
              "      // Send a message to notify the kernel that we're ready.\n",
              "      channel.send({})\n",
              "\n",
              "      for await (const message of channel.messages) {\n",
              "        // Send a message to notify the kernel that we're ready.\n",
              "        channel.send({})\n",
              "        if (message.buffers) {\n",
              "          for (const buffer of message.buffers) {\n",
              "            buffers.push(buffer);\n",
              "            downloaded += buffer.byteLength;\n",
              "            progress.value = downloaded;\n",
              "          }\n",
              "        }\n",
              "      }\n",
              "      const blob = new Blob(buffers, {type: 'application/binary'});\n",
              "      const a = document.createElement('a');\n",
              "      a.href = window.URL.createObjectURL(blob);\n",
              "      a.download = filename;\n",
              "      div.appendChild(a);\n",
              "      a.click();\n",
              "      div.remove();\n",
              "    }\n",
              "  "
            ]
          },
          "metadata": {}
        },
        {
          "output_type": "display_data",
          "data": {
            "text/plain": [
              "<IPython.core.display.Javascript object>"
            ],
            "application/javascript": [
              "download(\"download_003529d9-4029-43e6-8173-b9e7e157563b\", \"\\u6c5f\\u4e00\\u73a5(5_6\\ud83c\\udf82)_2025-06-01_05-18-58.ts\", 8922292)"
            ]
          },
          "metadata": {}
        },
        {
          "output_type": "stream",
          "name": "stdout",
          "text": [
            "  --> Download initiated for '江一玥(5_6🎂)/江一玥(5_6🎂)_2025-06-01_05-18-58.ts'.\n",
            "Download progress saved: Next file index is 7.\n",
            "\n",
            "Proceeding to the next file...\n",
            "[8/32] Downloading: 腼腆小美(5_7🎂)/腼腆小美(5_7🎂)_2025-06-01_05-17-06.mp4\n"
          ]
        },
        {
          "output_type": "display_data",
          "data": {
            "text/plain": [
              "<IPython.core.display.Javascript object>"
            ],
            "application/javascript": [
              "\n",
              "    async function download(id, filename, size) {\n",
              "      if (!google.colab.kernel.accessAllowed) {\n",
              "        return;\n",
              "      }\n",
              "      const div = document.createElement('div');\n",
              "      const label = document.createElement('label');\n",
              "      label.textContent = `Downloading \"${filename}\": `;\n",
              "      div.appendChild(label);\n",
              "      const progress = document.createElement('progress');\n",
              "      progress.max = size;\n",
              "      div.appendChild(progress);\n",
              "      document.body.appendChild(div);\n",
              "\n",
              "      const buffers = [];\n",
              "      let downloaded = 0;\n",
              "\n",
              "      const channel = await google.colab.kernel.comms.open(id);\n",
              "      // Send a message to notify the kernel that we're ready.\n",
              "      channel.send({})\n",
              "\n",
              "      for await (const message of channel.messages) {\n",
              "        // Send a message to notify the kernel that we're ready.\n",
              "        channel.send({})\n",
              "        if (message.buffers) {\n",
              "          for (const buffer of message.buffers) {\n",
              "            buffers.push(buffer);\n",
              "            downloaded += buffer.byteLength;\n",
              "            progress.value = downloaded;\n",
              "          }\n",
              "        }\n",
              "      }\n",
              "      const blob = new Blob(buffers, {type: 'application/binary'});\n",
              "      const a = document.createElement('a');\n",
              "      a.href = window.URL.createObjectURL(blob);\n",
              "      a.download = filename;\n",
              "      div.appendChild(a);\n",
              "      a.click();\n",
              "      div.remove();\n",
              "    }\n",
              "  "
            ]
          },
          "metadata": {}
        },
        {
          "output_type": "display_data",
          "data": {
            "text/plain": [
              "<IPython.core.display.Javascript object>"
            ],
            "application/javascript": [
              "download(\"download_607bf2e9-8c7b-45f6-b888-a95cb072a8a0\", \"\\u817c\\u8146\\u5c0f\\u7f8e(5_7\\ud83c\\udf82)_2025-06-01_05-17-06.mp4\", 43124695)"
            ]
          },
          "metadata": {}
        },
        {
          "output_type": "stream",
          "name": "stdout",
          "text": [
            "  --> Download initiated for '腼腆小美(5_7🎂)/腼腆小美(5_7🎂)_2025-06-01_05-17-06.mp4'.\n",
            "Download progress saved: Next file index is 8.\n",
            "\n",
            "Proceeding to the next file...\n",
            "[9/32] Downloading: 是Lily啊/是Lily啊_2025-06-01_05-16-49.mp4\n"
          ]
        },
        {
          "output_type": "display_data",
          "data": {
            "text/plain": [
              "<IPython.core.display.Javascript object>"
            ],
            "application/javascript": [
              "\n",
              "    async function download(id, filename, size) {\n",
              "      if (!google.colab.kernel.accessAllowed) {\n",
              "        return;\n",
              "      }\n",
              "      const div = document.createElement('div');\n",
              "      const label = document.createElement('label');\n",
              "      label.textContent = `Downloading \"${filename}\": `;\n",
              "      div.appendChild(label);\n",
              "      const progress = document.createElement('progress');\n",
              "      progress.max = size;\n",
              "      div.appendChild(progress);\n",
              "      document.body.appendChild(div);\n",
              "\n",
              "      const buffers = [];\n",
              "      let downloaded = 0;\n",
              "\n",
              "      const channel = await google.colab.kernel.comms.open(id);\n",
              "      // Send a message to notify the kernel that we're ready.\n",
              "      channel.send({})\n",
              "\n",
              "      for await (const message of channel.messages) {\n",
              "        // Send a message to notify the kernel that we're ready.\n",
              "        channel.send({})\n",
              "        if (message.buffers) {\n",
              "          for (const buffer of message.buffers) {\n",
              "            buffers.push(buffer);\n",
              "            downloaded += buffer.byteLength;\n",
              "            progress.value = downloaded;\n",
              "          }\n",
              "        }\n",
              "      }\n",
              "      const blob = new Blob(buffers, {type: 'application/binary'});\n",
              "      const a = document.createElement('a');\n",
              "      a.href = window.URL.createObjectURL(blob);\n",
              "      a.download = filename;\n",
              "      div.appendChild(a);\n",
              "      a.click();\n",
              "      div.remove();\n",
              "    }\n",
              "  "
            ]
          },
          "metadata": {}
        },
        {
          "output_type": "display_data",
          "data": {
            "text/plain": [
              "<IPython.core.display.Javascript object>"
            ],
            "application/javascript": [
              "download(\"download_6ef54d3c-67b0-48f1-965c-6368faf3c491\", \"\\u662fLily\\u554a_2025-06-01_05-16-49.mp4\", 125579139)"
            ]
          },
          "metadata": {}
        },
        {
          "output_type": "stream",
          "name": "stdout",
          "text": [
            "  --> Download initiated for '是Lily啊/是Lily啊_2025-06-01_05-16-49.mp4'.\n",
            "Download progress saved: Next file index is 9.\n",
            "\n",
            "Proceeding to the next file...\n",
            "[10/32] Downloading: 小梦🧚中国舞/小梦🧚中国舞_2025-06-01_05-18-58.ts\n"
          ]
        },
        {
          "output_type": "display_data",
          "data": {
            "text/plain": [
              "<IPython.core.display.Javascript object>"
            ],
            "application/javascript": [
              "\n",
              "    async function download(id, filename, size) {\n",
              "      if (!google.colab.kernel.accessAllowed) {\n",
              "        return;\n",
              "      }\n",
              "      const div = document.createElement('div');\n",
              "      const label = document.createElement('label');\n",
              "      label.textContent = `Downloading \"${filename}\": `;\n",
              "      div.appendChild(label);\n",
              "      const progress = document.createElement('progress');\n",
              "      progress.max = size;\n",
              "      div.appendChild(progress);\n",
              "      document.body.appendChild(div);\n",
              "\n",
              "      const buffers = [];\n",
              "      let downloaded = 0;\n",
              "\n",
              "      const channel = await google.colab.kernel.comms.open(id);\n",
              "      // Send a message to notify the kernel that we're ready.\n",
              "      channel.send({})\n",
              "\n",
              "      for await (const message of channel.messages) {\n",
              "        // Send a message to notify the kernel that we're ready.\n",
              "        channel.send({})\n",
              "        if (message.buffers) {\n",
              "          for (const buffer of message.buffers) {\n",
              "            buffers.push(buffer);\n",
              "            downloaded += buffer.byteLength;\n",
              "            progress.value = downloaded;\n",
              "          }\n",
              "        }\n",
              "      }\n",
              "      const blob = new Blob(buffers, {type: 'application/binary'});\n",
              "      const a = document.createElement('a');\n",
              "      a.href = window.URL.createObjectURL(blob);\n",
              "      a.download = filename;\n",
              "      div.appendChild(a);\n",
              "      a.click();\n",
              "      div.remove();\n",
              "    }\n",
              "  "
            ]
          },
          "metadata": {}
        },
        {
          "output_type": "display_data",
          "data": {
            "text/plain": [
              "<IPython.core.display.Javascript object>"
            ],
            "application/javascript": [
              "download(\"download_9d99e405-4ed6-46a5-b3fc-11f361cfccb7\", \"\\u5c0f\\u68a6\\ud83e\\uddda\\u4e2d\\u56fd\\u821e_2025-06-01_05-18-58.ts\", 7160544)"
            ]
          },
          "metadata": {}
        },
        {
          "output_type": "stream",
          "name": "stdout",
          "text": [
            "  --> Download initiated for '小梦🧚中国舞/小梦🧚中国舞_2025-06-01_05-18-58.ts'.\n",
            "Download progress saved: Next file index is 10.\n",
            "\n",
            "Proceeding to the next file...\n",
            "[11/32] Downloading: 星呆露^_🐰/星呆露^_🐰_2025-06-01_05-16-55.mp4\n"
          ]
        },
        {
          "output_type": "display_data",
          "data": {
            "text/plain": [
              "<IPython.core.display.Javascript object>"
            ],
            "application/javascript": [
              "\n",
              "    async function download(id, filename, size) {\n",
              "      if (!google.colab.kernel.accessAllowed) {\n",
              "        return;\n",
              "      }\n",
              "      const div = document.createElement('div');\n",
              "      const label = document.createElement('label');\n",
              "      label.textContent = `Downloading \"${filename}\": `;\n",
              "      div.appendChild(label);\n",
              "      const progress = document.createElement('progress');\n",
              "      progress.max = size;\n",
              "      div.appendChild(progress);\n",
              "      document.body.appendChild(div);\n",
              "\n",
              "      const buffers = [];\n",
              "      let downloaded = 0;\n",
              "\n",
              "      const channel = await google.colab.kernel.comms.open(id);\n",
              "      // Send a message to notify the kernel that we're ready.\n",
              "      channel.send({})\n",
              "\n",
              "      for await (const message of channel.messages) {\n",
              "        // Send a message to notify the kernel that we're ready.\n",
              "        channel.send({})\n",
              "        if (message.buffers) {\n",
              "          for (const buffer of message.buffers) {\n",
              "            buffers.push(buffer);\n",
              "            downloaded += buffer.byteLength;\n",
              "            progress.value = downloaded;\n",
              "          }\n",
              "        }\n",
              "      }\n",
              "      const blob = new Blob(buffers, {type: 'application/binary'});\n",
              "      const a = document.createElement('a');\n",
              "      a.href = window.URL.createObjectURL(blob);\n",
              "      a.download = filename;\n",
              "      div.appendChild(a);\n",
              "      a.click();\n",
              "      div.remove();\n",
              "    }\n",
              "  "
            ]
          },
          "metadata": {}
        },
        {
          "output_type": "display_data",
          "data": {
            "text/plain": [
              "<IPython.core.display.Javascript object>"
            ],
            "application/javascript": [
              "download(\"download_b476d1b5-8055-421e-92c0-281abbd865e5\", \"\\u661f\\u5446\\u9732^_\\ud83d\\udc30_2025-06-01_05-16-55.mp4\", 38729100)"
            ]
          },
          "metadata": {}
        },
        {
          "output_type": "stream",
          "name": "stdout",
          "text": [
            "  --> Download initiated for '星呆露^_🐰/星呆露^_🐰_2025-06-01_05-16-55.mp4'.\n",
            "Download progress saved: Next file index is 11.\n",
            "\n",
            "Proceeding to the next file...\n",
            "[12/32] Downloading: 高夕妍👻(五一休假啦)/高夕妍👻(五一休假啦)_2025-06-01_05-18-15.mp4\n"
          ]
        },
        {
          "output_type": "display_data",
          "data": {
            "text/plain": [
              "<IPython.core.display.Javascript object>"
            ],
            "application/javascript": [
              "\n",
              "    async function download(id, filename, size) {\n",
              "      if (!google.colab.kernel.accessAllowed) {\n",
              "        return;\n",
              "      }\n",
              "      const div = document.createElement('div');\n",
              "      const label = document.createElement('label');\n",
              "      label.textContent = `Downloading \"${filename}\": `;\n",
              "      div.appendChild(label);\n",
              "      const progress = document.createElement('progress');\n",
              "      progress.max = size;\n",
              "      div.appendChild(progress);\n",
              "      document.body.appendChild(div);\n",
              "\n",
              "      const buffers = [];\n",
              "      let downloaded = 0;\n",
              "\n",
              "      const channel = await google.colab.kernel.comms.open(id);\n",
              "      // Send a message to notify the kernel that we're ready.\n",
              "      channel.send({})\n",
              "\n",
              "      for await (const message of channel.messages) {\n",
              "        // Send a message to notify the kernel that we're ready.\n",
              "        channel.send({})\n",
              "        if (message.buffers) {\n",
              "          for (const buffer of message.buffers) {\n",
              "            buffers.push(buffer);\n",
              "            downloaded += buffer.byteLength;\n",
              "            progress.value = downloaded;\n",
              "          }\n",
              "        }\n",
              "      }\n",
              "      const blob = new Blob(buffers, {type: 'application/binary'});\n",
              "      const a = document.createElement('a');\n",
              "      a.href = window.URL.createObjectURL(blob);\n",
              "      a.download = filename;\n",
              "      div.appendChild(a);\n",
              "      a.click();\n",
              "      div.remove();\n",
              "    }\n",
              "  "
            ]
          },
          "metadata": {}
        },
        {
          "output_type": "display_data",
          "data": {
            "text/plain": [
              "<IPython.core.display.Javascript object>"
            ],
            "application/javascript": [
              "download(\"download_5ff37e8f-6eab-4e60-8296-d8c489b56c9a\", \"\\u9ad8\\u5915\\u598d\\ud83d\\udc7b(\\u4e94\\u4e00\\u4f11\\u5047\\u5566)_2025-06-01_05-18-15.mp4\", 49445273)"
            ]
          },
          "metadata": {}
        },
        {
          "output_type": "stream",
          "name": "stdout",
          "text": [
            "  --> Download initiated for '高夕妍👻(五一休假啦)/高夕妍👻(五一休假啦)_2025-06-01_05-18-15.mp4'.\n",
            "Download progress saved: Next file index is 12.\n",
            "\n",
            "Proceeding to the next file...\n",
            "[13/32] Downloading: 林恩(5月4日晚8点生日庆)/林恩(5月4日晚8点生日庆)_2025-06-01_05-17-30.ts\n"
          ]
        },
        {
          "output_type": "display_data",
          "data": {
            "text/plain": [
              "<IPython.core.display.Javascript object>"
            ],
            "application/javascript": [
              "\n",
              "    async function download(id, filename, size) {\n",
              "      if (!google.colab.kernel.accessAllowed) {\n",
              "        return;\n",
              "      }\n",
              "      const div = document.createElement('div');\n",
              "      const label = document.createElement('label');\n",
              "      label.textContent = `Downloading \"${filename}\": `;\n",
              "      div.appendChild(label);\n",
              "      const progress = document.createElement('progress');\n",
              "      progress.max = size;\n",
              "      div.appendChild(progress);\n",
              "      document.body.appendChild(div);\n",
              "\n",
              "      const buffers = [];\n",
              "      let downloaded = 0;\n",
              "\n",
              "      const channel = await google.colab.kernel.comms.open(id);\n",
              "      // Send a message to notify the kernel that we're ready.\n",
              "      channel.send({})\n",
              "\n",
              "      for await (const message of channel.messages) {\n",
              "        // Send a message to notify the kernel that we're ready.\n",
              "        channel.send({})\n",
              "        if (message.buffers) {\n",
              "          for (const buffer of message.buffers) {\n",
              "            buffers.push(buffer);\n",
              "            downloaded += buffer.byteLength;\n",
              "            progress.value = downloaded;\n",
              "          }\n",
              "        }\n",
              "      }\n",
              "      const blob = new Blob(buffers, {type: 'application/binary'});\n",
              "      const a = document.createElement('a');\n",
              "      a.href = window.URL.createObjectURL(blob);\n",
              "      a.download = filename;\n",
              "      div.appendChild(a);\n",
              "      a.click();\n",
              "      div.remove();\n",
              "    }\n",
              "  "
            ]
          },
          "metadata": {}
        },
        {
          "output_type": "display_data",
          "data": {
            "text/plain": [
              "<IPython.core.display.Javascript object>"
            ],
            "application/javascript": [
              "download(\"download_6fbe1208-5352-41bc-acbe-b26302f2a105\", \"\\u6797\\u6069(5\\u67084\\u65e5\\u665a8\\u70b9\\u751f\\u65e5\\u5e86)_2025-06-01_05-17-30.ts\", 31007404)"
            ]
          },
          "metadata": {}
        },
        {
          "output_type": "stream",
          "name": "stdout",
          "text": [
            "  --> Download initiated for '林恩(5月4日晚8点生日庆)/林恩(5月4日晚8点生日庆)_2025-06-01_05-17-30.ts'.\n",
            "Download progress saved: Next file index is 13.\n",
            "\n",
            "Proceeding to the next file...\n",
            "[14/32] Downloading: 方忆沐/方忆沐_2025-06-01_05-17-47.mp4\n"
          ]
        },
        {
          "output_type": "display_data",
          "data": {
            "text/plain": [
              "<IPython.core.display.Javascript object>"
            ],
            "application/javascript": [
              "\n",
              "    async function download(id, filename, size) {\n",
              "      if (!google.colab.kernel.accessAllowed) {\n",
              "        return;\n",
              "      }\n",
              "      const div = document.createElement('div');\n",
              "      const label = document.createElement('label');\n",
              "      label.textContent = `Downloading \"${filename}\": `;\n",
              "      div.appendChild(label);\n",
              "      const progress = document.createElement('progress');\n",
              "      progress.max = size;\n",
              "      div.appendChild(progress);\n",
              "      document.body.appendChild(div);\n",
              "\n",
              "      const buffers = [];\n",
              "      let downloaded = 0;\n",
              "\n",
              "      const channel = await google.colab.kernel.comms.open(id);\n",
              "      // Send a message to notify the kernel that we're ready.\n",
              "      channel.send({})\n",
              "\n",
              "      for await (const message of channel.messages) {\n",
              "        // Send a message to notify the kernel that we're ready.\n",
              "        channel.send({})\n",
              "        if (message.buffers) {\n",
              "          for (const buffer of message.buffers) {\n",
              "            buffers.push(buffer);\n",
              "            downloaded += buffer.byteLength;\n",
              "            progress.value = downloaded;\n",
              "          }\n",
              "        }\n",
              "      }\n",
              "      const blob = new Blob(buffers, {type: 'application/binary'});\n",
              "      const a = document.createElement('a');\n",
              "      a.href = window.URL.createObjectURL(blob);\n",
              "      a.download = filename;\n",
              "      div.appendChild(a);\n",
              "      a.click();\n",
              "      div.remove();\n",
              "    }\n",
              "  "
            ]
          },
          "metadata": {}
        },
        {
          "output_type": "display_data",
          "data": {
            "text/plain": [
              "<IPython.core.display.Javascript object>"
            ],
            "application/javascript": [
              "download(\"download_6b696e46-1824-4257-85ff-3c0a02c21d61\", \"\\u65b9\\u5fc6\\u6c90_2025-06-01_05-17-47.mp4\", 76557990)"
            ]
          },
          "metadata": {}
        },
        {
          "output_type": "stream",
          "name": "stdout",
          "text": [
            "  --> Download initiated for '方忆沐/方忆沐_2025-06-01_05-17-47.mp4'.\n",
            "Download progress saved: Next file index is 14.\n",
            "\n",
            "Proceeding to the next file...\n",
            "[15/32] Downloading: 娜娜子🎹/娜娜子🎹_2025-06-01_05-18-53.mp4\n"
          ]
        },
        {
          "output_type": "display_data",
          "data": {
            "text/plain": [
              "<IPython.core.display.Javascript object>"
            ],
            "application/javascript": [
              "\n",
              "    async function download(id, filename, size) {\n",
              "      if (!google.colab.kernel.accessAllowed) {\n",
              "        return;\n",
              "      }\n",
              "      const div = document.createElement('div');\n",
              "      const label = document.createElement('label');\n",
              "      label.textContent = `Downloading \"${filename}\": `;\n",
              "      div.appendChild(label);\n",
              "      const progress = document.createElement('progress');\n",
              "      progress.max = size;\n",
              "      div.appendChild(progress);\n",
              "      document.body.appendChild(div);\n",
              "\n",
              "      const buffers = [];\n",
              "      let downloaded = 0;\n",
              "\n",
              "      const channel = await google.colab.kernel.comms.open(id);\n",
              "      // Send a message to notify the kernel that we're ready.\n",
              "      channel.send({})\n",
              "\n",
              "      for await (const message of channel.messages) {\n",
              "        // Send a message to notify the kernel that we're ready.\n",
              "        channel.send({})\n",
              "        if (message.buffers) {\n",
              "          for (const buffer of message.buffers) {\n",
              "            buffers.push(buffer);\n",
              "            downloaded += buffer.byteLength;\n",
              "            progress.value = downloaded;\n",
              "          }\n",
              "        }\n",
              "      }\n",
              "      const blob = new Blob(buffers, {type: 'application/binary'});\n",
              "      const a = document.createElement('a');\n",
              "      a.href = window.URL.createObjectURL(blob);\n",
              "      a.download = filename;\n",
              "      div.appendChild(a);\n",
              "      a.click();\n",
              "      div.remove();\n",
              "    }\n",
              "  "
            ]
          },
          "metadata": {}
        },
        {
          "output_type": "display_data",
          "data": {
            "text/plain": [
              "<IPython.core.display.Javascript object>"
            ],
            "application/javascript": [
              "download(\"download_53021a4b-a0f8-4b7b-9368-979dc77794a8\", \"\\u5a1c\\u5a1c\\u5b50\\ud83c\\udfb9_2025-06-01_05-18-53.mp4\", 16446161)"
            ]
          },
          "metadata": {}
        },
        {
          "output_type": "stream",
          "name": "stdout",
          "text": [
            "  --> Download initiated for '娜娜子🎹/娜娜子🎹_2025-06-01_05-18-53.mp4'.\n",
            "Download progress saved: Next file index is 15.\n",
            "\n",
            "Proceeding to the next file...\n",
            "[16/32] Downloading: 舞蹈生诗诗⁵²⁴⁴/舞蹈生诗诗⁵²⁴⁴_2025-06-01_05-18-56.mp4\n"
          ]
        },
        {
          "output_type": "display_data",
          "data": {
            "text/plain": [
              "<IPython.core.display.Javascript object>"
            ],
            "application/javascript": [
              "\n",
              "    async function download(id, filename, size) {\n",
              "      if (!google.colab.kernel.accessAllowed) {\n",
              "        return;\n",
              "      }\n",
              "      const div = document.createElement('div');\n",
              "      const label = document.createElement('label');\n",
              "      label.textContent = `Downloading \"${filename}\": `;\n",
              "      div.appendChild(label);\n",
              "      const progress = document.createElement('progress');\n",
              "      progress.max = size;\n",
              "      div.appendChild(progress);\n",
              "      document.body.appendChild(div);\n",
              "\n",
              "      const buffers = [];\n",
              "      let downloaded = 0;\n",
              "\n",
              "      const channel = await google.colab.kernel.comms.open(id);\n",
              "      // Send a message to notify the kernel that we're ready.\n",
              "      channel.send({})\n",
              "\n",
              "      for await (const message of channel.messages) {\n",
              "        // Send a message to notify the kernel that we're ready.\n",
              "        channel.send({})\n",
              "        if (message.buffers) {\n",
              "          for (const buffer of message.buffers) {\n",
              "            buffers.push(buffer);\n",
              "            downloaded += buffer.byteLength;\n",
              "            progress.value = downloaded;\n",
              "          }\n",
              "        }\n",
              "      }\n",
              "      const blob = new Blob(buffers, {type: 'application/binary'});\n",
              "      const a = document.createElement('a');\n",
              "      a.href = window.URL.createObjectURL(blob);\n",
              "      a.download = filename;\n",
              "      div.appendChild(a);\n",
              "      a.click();\n",
              "      div.remove();\n",
              "    }\n",
              "  "
            ]
          },
          "metadata": {}
        },
        {
          "output_type": "display_data",
          "data": {
            "text/plain": [
              "<IPython.core.display.Javascript object>"
            ],
            "application/javascript": [
              "download(\"download_a5b712f5-7a0a-45da-8ed4-8925f7eecbc3\", \"\\u821e\\u8e48\\u751f\\u8bd7\\u8bd7\\u2075\\u00b2\\u2074\\u2074_2025-06-01_05-18-56.mp4\", 15113763)"
            ]
          },
          "metadata": {}
        },
        {
          "output_type": "stream",
          "name": "stdout",
          "text": [
            "  --> Download initiated for '舞蹈生诗诗⁵²⁴⁴/舞蹈生诗诗⁵²⁴⁴_2025-06-01_05-18-56.mp4'.\n",
            "Download progress saved: Next file index is 16.\n",
            "\n",
            "Proceeding to the next file...\n",
            "[17/32] Downloading: 微小包包子/微小包包子_2025-06-01_05-18-53.mp4\n"
          ]
        },
        {
          "output_type": "display_data",
          "data": {
            "text/plain": [
              "<IPython.core.display.Javascript object>"
            ],
            "application/javascript": [
              "\n",
              "    async function download(id, filename, size) {\n",
              "      if (!google.colab.kernel.accessAllowed) {\n",
              "        return;\n",
              "      }\n",
              "      const div = document.createElement('div');\n",
              "      const label = document.createElement('label');\n",
              "      label.textContent = `Downloading \"${filename}\": `;\n",
              "      div.appendChild(label);\n",
              "      const progress = document.createElement('progress');\n",
              "      progress.max = size;\n",
              "      div.appendChild(progress);\n",
              "      document.body.appendChild(div);\n",
              "\n",
              "      const buffers = [];\n",
              "      let downloaded = 0;\n",
              "\n",
              "      const channel = await google.colab.kernel.comms.open(id);\n",
              "      // Send a message to notify the kernel that we're ready.\n",
              "      channel.send({})\n",
              "\n",
              "      for await (const message of channel.messages) {\n",
              "        // Send a message to notify the kernel that we're ready.\n",
              "        channel.send({})\n",
              "        if (message.buffers) {\n",
              "          for (const buffer of message.buffers) {\n",
              "            buffers.push(buffer);\n",
              "            downloaded += buffer.byteLength;\n",
              "            progress.value = downloaded;\n",
              "          }\n",
              "        }\n",
              "      }\n",
              "      const blob = new Blob(buffers, {type: 'application/binary'});\n",
              "      const a = document.createElement('a');\n",
              "      a.href = window.URL.createObjectURL(blob);\n",
              "      a.download = filename;\n",
              "      div.appendChild(a);\n",
              "      a.click();\n",
              "      div.remove();\n",
              "    }\n",
              "  "
            ]
          },
          "metadata": {}
        },
        {
          "output_type": "display_data",
          "data": {
            "text/plain": [
              "<IPython.core.display.Javascript object>"
            ],
            "application/javascript": [
              "download(\"download_1174e328-5b77-47ab-bcc4-2fda9d34d93c\", \"\\u5fae\\u5c0f\\u5305\\u5305\\u5b50_2025-06-01_05-18-53.mp4\", 17549353)"
            ]
          },
          "metadata": {}
        },
        {
          "output_type": "stream",
          "name": "stdout",
          "text": [
            "  --> Download initiated for '微小包包子/微小包包子_2025-06-01_05-18-53.mp4'.\n",
            "Download progress saved: Next file index is 17.\n",
            "\n",
            "Proceeding to the next file...\n",
            "[18/32] Downloading: 雨子酱Yuu/雨子酱Yuu_2025-06-01_05-17-24.mp4\n"
          ]
        },
        {
          "output_type": "display_data",
          "data": {
            "text/plain": [
              "<IPython.core.display.Javascript object>"
            ],
            "application/javascript": [
              "\n",
              "    async function download(id, filename, size) {\n",
              "      if (!google.colab.kernel.accessAllowed) {\n",
              "        return;\n",
              "      }\n",
              "      const div = document.createElement('div');\n",
              "      const label = document.createElement('label');\n",
              "      label.textContent = `Downloading \"${filename}\": `;\n",
              "      div.appendChild(label);\n",
              "      const progress = document.createElement('progress');\n",
              "      progress.max = size;\n",
              "      div.appendChild(progress);\n",
              "      document.body.appendChild(div);\n",
              "\n",
              "      const buffers = [];\n",
              "      let downloaded = 0;\n",
              "\n",
              "      const channel = await google.colab.kernel.comms.open(id);\n",
              "      // Send a message to notify the kernel that we're ready.\n",
              "      channel.send({})\n",
              "\n",
              "      for await (const message of channel.messages) {\n",
              "        // Send a message to notify the kernel that we're ready.\n",
              "        channel.send({})\n",
              "        if (message.buffers) {\n",
              "          for (const buffer of message.buffers) {\n",
              "            buffers.push(buffer);\n",
              "            downloaded += buffer.byteLength;\n",
              "            progress.value = downloaded;\n",
              "          }\n",
              "        }\n",
              "      }\n",
              "      const blob = new Blob(buffers, {type: 'application/binary'});\n",
              "      const a = document.createElement('a');\n",
              "      a.href = window.URL.createObjectURL(blob);\n",
              "      a.download = filename;\n",
              "      div.appendChild(a);\n",
              "      a.click();\n",
              "      div.remove();\n",
              "    }\n",
              "  "
            ]
          },
          "metadata": {}
        },
        {
          "output_type": "display_data",
          "data": {
            "text/plain": [
              "<IPython.core.display.Javascript object>"
            ],
            "application/javascript": [
              "download(\"download_0e6df1fc-8f4e-4b27-9ed6-c4c523fad51b\", \"\\u96e8\\u5b50\\u9171Yuu_2025-06-01_05-17-24.mp4\", 31142078)"
            ]
          },
          "metadata": {}
        },
        {
          "output_type": "stream",
          "name": "stdout",
          "text": [
            "  --> Download initiated for '雨子酱Yuu/雨子酱Yuu_2025-06-01_05-17-24.mp4'.\n",
            "Download progress saved: Next file index is 18.\n",
            "\n",
            "Proceeding to the next file...\n",
            "[19/32] Downloading: 美欧尼/美欧尼_2025-06-01_05-18-20.mp4\n"
          ]
        },
        {
          "output_type": "display_data",
          "data": {
            "text/plain": [
              "<IPython.core.display.Javascript object>"
            ],
            "application/javascript": [
              "\n",
              "    async function download(id, filename, size) {\n",
              "      if (!google.colab.kernel.accessAllowed) {\n",
              "        return;\n",
              "      }\n",
              "      const div = document.createElement('div');\n",
              "      const label = document.createElement('label');\n",
              "      label.textContent = `Downloading \"${filename}\": `;\n",
              "      div.appendChild(label);\n",
              "      const progress = document.createElement('progress');\n",
              "      progress.max = size;\n",
              "      div.appendChild(progress);\n",
              "      document.body.appendChild(div);\n",
              "\n",
              "      const buffers = [];\n",
              "      let downloaded = 0;\n",
              "\n",
              "      const channel = await google.colab.kernel.comms.open(id);\n",
              "      // Send a message to notify the kernel that we're ready.\n",
              "      channel.send({})\n",
              "\n",
              "      for await (const message of channel.messages) {\n",
              "        // Send a message to notify the kernel that we're ready.\n",
              "        channel.send({})\n",
              "        if (message.buffers) {\n",
              "          for (const buffer of message.buffers) {\n",
              "            buffers.push(buffer);\n",
              "            downloaded += buffer.byteLength;\n",
              "            progress.value = downloaded;\n",
              "          }\n",
              "        }\n",
              "      }\n",
              "      const blob = new Blob(buffers, {type: 'application/binary'});\n",
              "      const a = document.createElement('a');\n",
              "      a.href = window.URL.createObjectURL(blob);\n",
              "      a.download = filename;\n",
              "      div.appendChild(a);\n",
              "      a.click();\n",
              "      div.remove();\n",
              "    }\n",
              "  "
            ]
          },
          "metadata": {}
        },
        {
          "output_type": "display_data",
          "data": {
            "text/plain": [
              "<IPython.core.display.Javascript object>"
            ],
            "application/javascript": [
              "download(\"download_6bd05881-51fb-47a0-86aa-a7cef01cf7ef\", \"\\u7f8e\\u6b27\\u5c3c_2025-06-01_05-18-20.mp4\", 17482773)"
            ]
          },
          "metadata": {}
        },
        {
          "output_type": "stream",
          "name": "stdout",
          "text": [
            "  --> Download initiated for '美欧尼/美欧尼_2025-06-01_05-18-20.mp4'.\n",
            "Download progress saved: Next file index is 19.\n",
            "\n",
            "Proceeding to the next file...\n",
            "[20/32] Downloading: 刘倩妤(潜水版/刘倩妤(潜水版_2025-06-01_05-18-45.mp4\n"
          ]
        },
        {
          "output_type": "display_data",
          "data": {
            "text/plain": [
              "<IPython.core.display.Javascript object>"
            ],
            "application/javascript": [
              "\n",
              "    async function download(id, filename, size) {\n",
              "      if (!google.colab.kernel.accessAllowed) {\n",
              "        return;\n",
              "      }\n",
              "      const div = document.createElement('div');\n",
              "      const label = document.createElement('label');\n",
              "      label.textContent = `Downloading \"${filename}\": `;\n",
              "      div.appendChild(label);\n",
              "      const progress = document.createElement('progress');\n",
              "      progress.max = size;\n",
              "      div.appendChild(progress);\n",
              "      document.body.appendChild(div);\n",
              "\n",
              "      const buffers = [];\n",
              "      let downloaded = 0;\n",
              "\n",
              "      const channel = await google.colab.kernel.comms.open(id);\n",
              "      // Send a message to notify the kernel that we're ready.\n",
              "      channel.send({})\n",
              "\n",
              "      for await (const message of channel.messages) {\n",
              "        // Send a message to notify the kernel that we're ready.\n",
              "        channel.send({})\n",
              "        if (message.buffers) {\n",
              "          for (const buffer of message.buffers) {\n",
              "            buffers.push(buffer);\n",
              "            downloaded += buffer.byteLength;\n",
              "            progress.value = downloaded;\n",
              "          }\n",
              "        }\n",
              "      }\n",
              "      const blob = new Blob(buffers, {type: 'application/binary'});\n",
              "      const a = document.createElement('a');\n",
              "      a.href = window.URL.createObjectURL(blob);\n",
              "      a.download = filename;\n",
              "      div.appendChild(a);\n",
              "      a.click();\n",
              "      div.remove();\n",
              "    }\n",
              "  "
            ]
          },
          "metadata": {}
        },
        {
          "output_type": "display_data",
          "data": {
            "text/plain": [
              "<IPython.core.display.Javascript object>"
            ],
            "application/javascript": [
              "download(\"download_bbbfff2a-e234-4f9f-8550-46b5533001c2\", \"\\u5218\\u5029\\u59a4(\\u6f5c\\u6c34\\u7248_2025-06-01_05-18-45.mp4\", 6730461)"
            ]
          },
          "metadata": {}
        },
        {
          "output_type": "stream",
          "name": "stdout",
          "text": [
            "  --> Download initiated for '刘倩妤(潜水版/刘倩妤(潜水版_2025-06-01_05-18-45.mp4'.\n",
            "Download progress saved: Next file index is 20.\n",
            "\n",
            "Proceeding to the next file...\n",
            "[21/32] Downloading: 大美的de💃中国舞/大美的de💃中国舞_2025-06-01_05-18-17.mp4\n"
          ]
        },
        {
          "output_type": "display_data",
          "data": {
            "text/plain": [
              "<IPython.core.display.Javascript object>"
            ],
            "application/javascript": [
              "\n",
              "    async function download(id, filename, size) {\n",
              "      if (!google.colab.kernel.accessAllowed) {\n",
              "        return;\n",
              "      }\n",
              "      const div = document.createElement('div');\n",
              "      const label = document.createElement('label');\n",
              "      label.textContent = `Downloading \"${filename}\": `;\n",
              "      div.appendChild(label);\n",
              "      const progress = document.createElement('progress');\n",
              "      progress.max = size;\n",
              "      div.appendChild(progress);\n",
              "      document.body.appendChild(div);\n",
              "\n",
              "      const buffers = [];\n",
              "      let downloaded = 0;\n",
              "\n",
              "      const channel = await google.colab.kernel.comms.open(id);\n",
              "      // Send a message to notify the kernel that we're ready.\n",
              "      channel.send({})\n",
              "\n",
              "      for await (const message of channel.messages) {\n",
              "        // Send a message to notify the kernel that we're ready.\n",
              "        channel.send({})\n",
              "        if (message.buffers) {\n",
              "          for (const buffer of message.buffers) {\n",
              "            buffers.push(buffer);\n",
              "            downloaded += buffer.byteLength;\n",
              "            progress.value = downloaded;\n",
              "          }\n",
              "        }\n",
              "      }\n",
              "      const blob = new Blob(buffers, {type: 'application/binary'});\n",
              "      const a = document.createElement('a');\n",
              "      a.href = window.URL.createObjectURL(blob);\n",
              "      a.download = filename;\n",
              "      div.appendChild(a);\n",
              "      a.click();\n",
              "      div.remove();\n",
              "    }\n",
              "  "
            ]
          },
          "metadata": {}
        },
        {
          "output_type": "display_data",
          "data": {
            "text/plain": [
              "<IPython.core.display.Javascript object>"
            ],
            "application/javascript": [
              "download(\"download_2d697e0a-c871-41c6-a7e2-341abe5d8493\", \"\\u5927\\u7f8e\\u7684de\\ud83d\\udc83\\u4e2d\\u56fd\\u821e_2025-06-01_05-18-17.mp4\", 50572368)"
            ]
          },
          "metadata": {}
        },
        {
          "output_type": "stream",
          "name": "stdout",
          "text": [
            "  --> Download initiated for '大美的de💃中国舞/大美的de💃中国舞_2025-06-01_05-18-17.mp4'.\n",
            "Download progress saved: Next file index is 21.\n",
            "\n",
            "Proceeding to the next file...\n",
            "[22/32] Downloading: 宝宝168(徐玉梅)/宝宝168(徐玉梅)_2025-06-01_05-18-13.mp4\n"
          ]
        },
        {
          "output_type": "display_data",
          "data": {
            "text/plain": [
              "<IPython.core.display.Javascript object>"
            ],
            "application/javascript": [
              "\n",
              "    async function download(id, filename, size) {\n",
              "      if (!google.colab.kernel.accessAllowed) {\n",
              "        return;\n",
              "      }\n",
              "      const div = document.createElement('div');\n",
              "      const label = document.createElement('label');\n",
              "      label.textContent = `Downloading \"${filename}\": `;\n",
              "      div.appendChild(label);\n",
              "      const progress = document.createElement('progress');\n",
              "      progress.max = size;\n",
              "      div.appendChild(progress);\n",
              "      document.body.appendChild(div);\n",
              "\n",
              "      const buffers = [];\n",
              "      let downloaded = 0;\n",
              "\n",
              "      const channel = await google.colab.kernel.comms.open(id);\n",
              "      // Send a message to notify the kernel that we're ready.\n",
              "      channel.send({})\n",
              "\n",
              "      for await (const message of channel.messages) {\n",
              "        // Send a message to notify the kernel that we're ready.\n",
              "        channel.send({})\n",
              "        if (message.buffers) {\n",
              "          for (const buffer of message.buffers) {\n",
              "            buffers.push(buffer);\n",
              "            downloaded += buffer.byteLength;\n",
              "            progress.value = downloaded;\n",
              "          }\n",
              "        }\n",
              "      }\n",
              "      const blob = new Blob(buffers, {type: 'application/binary'});\n",
              "      const a = document.createElement('a');\n",
              "      a.href = window.URL.createObjectURL(blob);\n",
              "      a.download = filename;\n",
              "      div.appendChild(a);\n",
              "      a.click();\n",
              "      div.remove();\n",
              "    }\n",
              "  "
            ]
          },
          "metadata": {}
        },
        {
          "output_type": "display_data",
          "data": {
            "text/plain": [
              "<IPython.core.display.Javascript object>"
            ],
            "application/javascript": [
              "download(\"download_b651c7d5-804c-4066-8fe7-069e906ddb1b\", \"\\u5b9d\\u5b9d168(\\u5f90\\u7389\\u6885)_2025-06-01_05-18-13.mp4\", 12458514)"
            ]
          },
          "metadata": {}
        },
        {
          "output_type": "stream",
          "name": "stdout",
          "text": [
            "  --> Download initiated for '宝宝168(徐玉梅)/宝宝168(徐玉梅)_2025-06-01_05-18-13.mp4'.\n",
            "Download progress saved: Next file index is 22.\n",
            "\n",
            "Proceeding to the next file...\n",
            "[23/32] Downloading: 我不妮姐🍯/我不妮姐🍯_2025-06-01_05-17-37.mp4\n"
          ]
        },
        {
          "output_type": "display_data",
          "data": {
            "text/plain": [
              "<IPython.core.display.Javascript object>"
            ],
            "application/javascript": [
              "\n",
              "    async function download(id, filename, size) {\n",
              "      if (!google.colab.kernel.accessAllowed) {\n",
              "        return;\n",
              "      }\n",
              "      const div = document.createElement('div');\n",
              "      const label = document.createElement('label');\n",
              "      label.textContent = `Downloading \"${filename}\": `;\n",
              "      div.appendChild(label);\n",
              "      const progress = document.createElement('progress');\n",
              "      progress.max = size;\n",
              "      div.appendChild(progress);\n",
              "      document.body.appendChild(div);\n",
              "\n",
              "      const buffers = [];\n",
              "      let downloaded = 0;\n",
              "\n",
              "      const channel = await google.colab.kernel.comms.open(id);\n",
              "      // Send a message to notify the kernel that we're ready.\n",
              "      channel.send({})\n",
              "\n",
              "      for await (const message of channel.messages) {\n",
              "        // Send a message to notify the kernel that we're ready.\n",
              "        channel.send({})\n",
              "        if (message.buffers) {\n",
              "          for (const buffer of message.buffers) {\n",
              "            buffers.push(buffer);\n",
              "            downloaded += buffer.byteLength;\n",
              "            progress.value = downloaded;\n",
              "          }\n",
              "        }\n",
              "      }\n",
              "      const blob = new Blob(buffers, {type: 'application/binary'});\n",
              "      const a = document.createElement('a');\n",
              "      a.href = window.URL.createObjectURL(blob);\n",
              "      a.download = filename;\n",
              "      div.appendChild(a);\n",
              "      a.click();\n",
              "      div.remove();\n",
              "    }\n",
              "  "
            ]
          },
          "metadata": {}
        },
        {
          "output_type": "display_data",
          "data": {
            "text/plain": [
              "<IPython.core.display.Javascript object>"
            ],
            "application/javascript": [
              "download(\"download_032fc3cc-2269-4dc5-8ee0-1f2d1bb043c6\", \"\\u6211\\u4e0d\\u59ae\\u59d0\\ud83c\\udf6f_2025-06-01_05-17-37.mp4\", 86535466)"
            ]
          },
          "metadata": {}
        },
        {
          "output_type": "stream",
          "name": "stdout",
          "text": [
            "  --> Download initiated for '我不妮姐🍯/我不妮姐🍯_2025-06-01_05-17-37.mp4'.\n",
            "Download progress saved: Next file index is 23.\n",
            "\n",
            "Proceeding to the next file...\n",
            "[24/32] Downloading: 静静不静-/静静不静-_2025-06-01_05-18-42.mp4\n"
          ]
        },
        {
          "output_type": "display_data",
          "data": {
            "text/plain": [
              "<IPython.core.display.Javascript object>"
            ],
            "application/javascript": [
              "\n",
              "    async function download(id, filename, size) {\n",
              "      if (!google.colab.kernel.accessAllowed) {\n",
              "        return;\n",
              "      }\n",
              "      const div = document.createElement('div');\n",
              "      const label = document.createElement('label');\n",
              "      label.textContent = `Downloading \"${filename}\": `;\n",
              "      div.appendChild(label);\n",
              "      const progress = document.createElement('progress');\n",
              "      progress.max = size;\n",
              "      div.appendChild(progress);\n",
              "      document.body.appendChild(div);\n",
              "\n",
              "      const buffers = [];\n",
              "      let downloaded = 0;\n",
              "\n",
              "      const channel = await google.colab.kernel.comms.open(id);\n",
              "      // Send a message to notify the kernel that we're ready.\n",
              "      channel.send({})\n",
              "\n",
              "      for await (const message of channel.messages) {\n",
              "        // Send a message to notify the kernel that we're ready.\n",
              "        channel.send({})\n",
              "        if (message.buffers) {\n",
              "          for (const buffer of message.buffers) {\n",
              "            buffers.push(buffer);\n",
              "            downloaded += buffer.byteLength;\n",
              "            progress.value = downloaded;\n",
              "          }\n",
              "        }\n",
              "      }\n",
              "      const blob = new Blob(buffers, {type: 'application/binary'});\n",
              "      const a = document.createElement('a');\n",
              "      a.href = window.URL.createObjectURL(blob);\n",
              "      a.download = filename;\n",
              "      div.appendChild(a);\n",
              "      a.click();\n",
              "      div.remove();\n",
              "    }\n",
              "  "
            ]
          },
          "metadata": {}
        },
        {
          "output_type": "display_data",
          "data": {
            "text/plain": [
              "<IPython.core.display.Javascript object>"
            ],
            "application/javascript": [
              "download(\"download_89a83630-82a1-4f1f-a1e8-1ba0cbe3615e\", \"\\u9759\\u9759\\u4e0d\\u9759-_2025-06-01_05-18-42.mp4\", 8521771)"
            ]
          },
          "metadata": {}
        },
        {
          "output_type": "stream",
          "name": "stdout",
          "text": [
            "  --> Download initiated for '静静不静-/静静不静-_2025-06-01_05-18-42.mp4'.\n",
            "Download progress saved: Next file index is 24.\n",
            "\n",
            "Proceeding to the next file...\n",
            "[25/32] Downloading: 杨清也🥕/杨清也🥕_2025-06-01_05-18-22.mp4\n"
          ]
        },
        {
          "output_type": "display_data",
          "data": {
            "text/plain": [
              "<IPython.core.display.Javascript object>"
            ],
            "application/javascript": [
              "\n",
              "    async function download(id, filename, size) {\n",
              "      if (!google.colab.kernel.accessAllowed) {\n",
              "        return;\n",
              "      }\n",
              "      const div = document.createElement('div');\n",
              "      const label = document.createElement('label');\n",
              "      label.textContent = `Downloading \"${filename}\": `;\n",
              "      div.appendChild(label);\n",
              "      const progress = document.createElement('progress');\n",
              "      progress.max = size;\n",
              "      div.appendChild(progress);\n",
              "      document.body.appendChild(div);\n",
              "\n",
              "      const buffers = [];\n",
              "      let downloaded = 0;\n",
              "\n",
              "      const channel = await google.colab.kernel.comms.open(id);\n",
              "      // Send a message to notify the kernel that we're ready.\n",
              "      channel.send({})\n",
              "\n",
              "      for await (const message of channel.messages) {\n",
              "        // Send a message to notify the kernel that we're ready.\n",
              "        channel.send({})\n",
              "        if (message.buffers) {\n",
              "          for (const buffer of message.buffers) {\n",
              "            buffers.push(buffer);\n",
              "            downloaded += buffer.byteLength;\n",
              "            progress.value = downloaded;\n",
              "          }\n",
              "        }\n",
              "      }\n",
              "      const blob = new Blob(buffers, {type: 'application/binary'});\n",
              "      const a = document.createElement('a');\n",
              "      a.href = window.URL.createObjectURL(blob);\n",
              "      a.download = filename;\n",
              "      div.appendChild(a);\n",
              "      a.click();\n",
              "      div.remove();\n",
              "    }\n",
              "  "
            ]
          },
          "metadata": {}
        },
        {
          "output_type": "display_data",
          "data": {
            "text/plain": [
              "<IPython.core.display.Javascript object>"
            ],
            "application/javascript": [
              "download(\"download_766db014-c0c8-4bc9-bb96-626d5db9394b\", \"\\u6768\\u6e05\\u4e5f\\ud83e\\udd55_2025-06-01_05-18-22.mp4\", 9943822)"
            ]
          },
          "metadata": {}
        },
        {
          "output_type": "stream",
          "name": "stdout",
          "text": [
            "  --> Download initiated for '杨清也🥕/杨清也🥕_2025-06-01_05-18-22.mp4'.\n",
            "Download progress saved: Next file index is 25.\n",
            "\n",
            "Proceeding to the next file...\n",
            "[26/32] Downloading: 小苏瑾c/小苏瑾c_2025-06-01_05-17-57.ts\n"
          ]
        },
        {
          "output_type": "display_data",
          "data": {
            "text/plain": [
              "<IPython.core.display.Javascript object>"
            ],
            "application/javascript": [
              "\n",
              "    async function download(id, filename, size) {\n",
              "      if (!google.colab.kernel.accessAllowed) {\n",
              "        return;\n",
              "      }\n",
              "      const div = document.createElement('div');\n",
              "      const label = document.createElement('label');\n",
              "      label.textContent = `Downloading \"${filename}\": `;\n",
              "      div.appendChild(label);\n",
              "      const progress = document.createElement('progress');\n",
              "      progress.max = size;\n",
              "      div.appendChild(progress);\n",
              "      document.body.appendChild(div);\n",
              "\n",
              "      const buffers = [];\n",
              "      let downloaded = 0;\n",
              "\n",
              "      const channel = await google.colab.kernel.comms.open(id);\n",
              "      // Send a message to notify the kernel that we're ready.\n",
              "      channel.send({})\n",
              "\n",
              "      for await (const message of channel.messages) {\n",
              "        // Send a message to notify the kernel that we're ready.\n",
              "        channel.send({})\n",
              "        if (message.buffers) {\n",
              "          for (const buffer of message.buffers) {\n",
              "            buffers.push(buffer);\n",
              "            downloaded += buffer.byteLength;\n",
              "            progress.value = downloaded;\n",
              "          }\n",
              "        }\n",
              "      }\n",
              "      const blob = new Blob(buffers, {type: 'application/binary'});\n",
              "      const a = document.createElement('a');\n",
              "      a.href = window.URL.createObjectURL(blob);\n",
              "      a.download = filename;\n",
              "      div.appendChild(a);\n",
              "      a.click();\n",
              "      div.remove();\n",
              "    }\n",
              "  "
            ]
          },
          "metadata": {}
        },
        {
          "output_type": "display_data",
          "data": {
            "text/plain": [
              "<IPython.core.display.Javascript object>"
            ],
            "application/javascript": [
              "download(\"download_948415c1-8ae1-4f7a-b833-e17cf78a8367\", \"\\u5c0f\\u82cf\\u747ec_2025-06-01_05-17-57.ts\", 18094812)"
            ]
          },
          "metadata": {}
        },
        {
          "output_type": "stream",
          "name": "stdout",
          "text": [
            "  --> Download initiated for '小苏瑾c/小苏瑾c_2025-06-01_05-17-57.ts'.\n",
            "Download progress saved: Next file index is 26.\n",
            "\n",
            "Proceeding to the next file...\n",
            "[27/32] Downloading: 小水baby❄️/小水baby❄️_2025-06-01_05-17-14.mp4\n"
          ]
        },
        {
          "output_type": "display_data",
          "data": {
            "text/plain": [
              "<IPython.core.display.Javascript object>"
            ],
            "application/javascript": [
              "\n",
              "    async function download(id, filename, size) {\n",
              "      if (!google.colab.kernel.accessAllowed) {\n",
              "        return;\n",
              "      }\n",
              "      const div = document.createElement('div');\n",
              "      const label = document.createElement('label');\n",
              "      label.textContent = `Downloading \"${filename}\": `;\n",
              "      div.appendChild(label);\n",
              "      const progress = document.createElement('progress');\n",
              "      progress.max = size;\n",
              "      div.appendChild(progress);\n",
              "      document.body.appendChild(div);\n",
              "\n",
              "      const buffers = [];\n",
              "      let downloaded = 0;\n",
              "\n",
              "      const channel = await google.colab.kernel.comms.open(id);\n",
              "      // Send a message to notify the kernel that we're ready.\n",
              "      channel.send({})\n",
              "\n",
              "      for await (const message of channel.messages) {\n",
              "        // Send a message to notify the kernel that we're ready.\n",
              "        channel.send({})\n",
              "        if (message.buffers) {\n",
              "          for (const buffer of message.buffers) {\n",
              "            buffers.push(buffer);\n",
              "            downloaded += buffer.byteLength;\n",
              "            progress.value = downloaded;\n",
              "          }\n",
              "        }\n",
              "      }\n",
              "      const blob = new Blob(buffers, {type: 'application/binary'});\n",
              "      const a = document.createElement('a');\n",
              "      a.href = window.URL.createObjectURL(blob);\n",
              "      a.download = filename;\n",
              "      div.appendChild(a);\n",
              "      a.click();\n",
              "      div.remove();\n",
              "    }\n",
              "  "
            ]
          },
          "metadata": {}
        },
        {
          "output_type": "display_data",
          "data": {
            "text/plain": [
              "<IPython.core.display.Javascript object>"
            ],
            "application/javascript": [
              "download(\"download_2dab56a1-4cd2-41ad-87d2-d2ca523e0ce8\", \"\\u5c0f\\u6c34baby\\u2744\\ufe0f_2025-06-01_05-17-14.mp4\", 40235542)"
            ]
          },
          "metadata": {}
        },
        {
          "output_type": "stream",
          "name": "stdout",
          "text": [
            "  --> Download initiated for '小水baby❄️/小水baby❄️_2025-06-01_05-17-14.mp4'.\n",
            "Download progress saved: Next file index is 27.\n",
            "\n",
            "Proceeding to the next file...\n",
            "[28/32] Downloading: 芊雨_⁹²⁷⁷✨/芊雨_⁹²⁷⁷✨_2025-06-01_05-18-26.mp4\n"
          ]
        },
        {
          "output_type": "display_data",
          "data": {
            "text/plain": [
              "<IPython.core.display.Javascript object>"
            ],
            "application/javascript": [
              "\n",
              "    async function download(id, filename, size) {\n",
              "      if (!google.colab.kernel.accessAllowed) {\n",
              "        return;\n",
              "      }\n",
              "      const div = document.createElement('div');\n",
              "      const label = document.createElement('label');\n",
              "      label.textContent = `Downloading \"${filename}\": `;\n",
              "      div.appendChild(label);\n",
              "      const progress = document.createElement('progress');\n",
              "      progress.max = size;\n",
              "      div.appendChild(progress);\n",
              "      document.body.appendChild(div);\n",
              "\n",
              "      const buffers = [];\n",
              "      let downloaded = 0;\n",
              "\n",
              "      const channel = await google.colab.kernel.comms.open(id);\n",
              "      // Send a message to notify the kernel that we're ready.\n",
              "      channel.send({})\n",
              "\n",
              "      for await (const message of channel.messages) {\n",
              "        // Send a message to notify the kernel that we're ready.\n",
              "        channel.send({})\n",
              "        if (message.buffers) {\n",
              "          for (const buffer of message.buffers) {\n",
              "            buffers.push(buffer);\n",
              "            downloaded += buffer.byteLength;\n",
              "            progress.value = downloaded;\n",
              "          }\n",
              "        }\n",
              "      }\n",
              "      const blob = new Blob(buffers, {type: 'application/binary'});\n",
              "      const a = document.createElement('a');\n",
              "      a.href = window.URL.createObjectURL(blob);\n",
              "      a.download = filename;\n",
              "      div.appendChild(a);\n",
              "      a.click();\n",
              "      div.remove();\n",
              "    }\n",
              "  "
            ]
          },
          "metadata": {}
        },
        {
          "output_type": "display_data",
          "data": {
            "text/plain": [
              "<IPython.core.display.Javascript object>"
            ],
            "application/javascript": [
              "download(\"download_04589bfe-650d-4a3f-9917-439d45334091\", \"\\u828a\\u96e8_\\u2079\\u00b2\\u2077\\u2077\\u2728_2025-06-01_05-18-26.mp4\", 26832670)"
            ]
          },
          "metadata": {}
        },
        {
          "output_type": "stream",
          "name": "stdout",
          "text": [
            "  --> Download initiated for '芊雨_⁹²⁷⁷✨/芊雨_⁹²⁷⁷✨_2025-06-01_05-18-26.mp4'.\n",
            "Download progress saved: Next file index is 28.\n",
            "\n",
            "Proceeding to the next file...\n",
            "[29/32] Downloading: 萌啊萌🥕¹¹⁰²/萌啊萌🥕¹¹⁰²_2025-06-01_05-16-53.mp4\n"
          ]
        },
        {
          "output_type": "display_data",
          "data": {
            "text/plain": [
              "<IPython.core.display.Javascript object>"
            ],
            "application/javascript": [
              "\n",
              "    async function download(id, filename, size) {\n",
              "      if (!google.colab.kernel.accessAllowed) {\n",
              "        return;\n",
              "      }\n",
              "      const div = document.createElement('div');\n",
              "      const label = document.createElement('label');\n",
              "      label.textContent = `Downloading \"${filename}\": `;\n",
              "      div.appendChild(label);\n",
              "      const progress = document.createElement('progress');\n",
              "      progress.max = size;\n",
              "      div.appendChild(progress);\n",
              "      document.body.appendChild(div);\n",
              "\n",
              "      const buffers = [];\n",
              "      let downloaded = 0;\n",
              "\n",
              "      const channel = await google.colab.kernel.comms.open(id);\n",
              "      // Send a message to notify the kernel that we're ready.\n",
              "      channel.send({})\n",
              "\n",
              "      for await (const message of channel.messages) {\n",
              "        // Send a message to notify the kernel that we're ready.\n",
              "        channel.send({})\n",
              "        if (message.buffers) {\n",
              "          for (const buffer of message.buffers) {\n",
              "            buffers.push(buffer);\n",
              "            downloaded += buffer.byteLength;\n",
              "            progress.value = downloaded;\n",
              "          }\n",
              "        }\n",
              "      }\n",
              "      const blob = new Blob(buffers, {type: 'application/binary'});\n",
              "      const a = document.createElement('a');\n",
              "      a.href = window.URL.createObjectURL(blob);\n",
              "      a.download = filename;\n",
              "      div.appendChild(a);\n",
              "      a.click();\n",
              "      div.remove();\n",
              "    }\n",
              "  "
            ]
          },
          "metadata": {}
        },
        {
          "output_type": "display_data",
          "data": {
            "text/plain": [
              "<IPython.core.display.Javascript object>"
            ],
            "application/javascript": [
              "download(\"download_15c8c393-1a0f-4e3f-b08e-2c6307f35e44\", \"\\u840c\\u554a\\u840c\\ud83e\\udd55\\u00b9\\u00b9\\u2070\\u00b2_2025-06-01_05-16-53.mp4\", 48429568)"
            ]
          },
          "metadata": {}
        },
        {
          "output_type": "stream",
          "name": "stdout",
          "text": [
            "  --> Download initiated for '萌啊萌🥕¹¹⁰²/萌啊萌🥕¹¹⁰²_2025-06-01_05-16-53.mp4'.\n",
            "Download progress saved: Next file index is 29.\n",
            "\n",
            "Proceeding to the next file...\n",
            "[30/32] Downloading: 嘻嘻有颗虎牙(爱🎤)/嘻嘻有颗虎牙(爱🎤)_2025-06-01_05-17-35.mp4\n"
          ]
        },
        {
          "output_type": "display_data",
          "data": {
            "text/plain": [
              "<IPython.core.display.Javascript object>"
            ],
            "application/javascript": [
              "\n",
              "    async function download(id, filename, size) {\n",
              "      if (!google.colab.kernel.accessAllowed) {\n",
              "        return;\n",
              "      }\n",
              "      const div = document.createElement('div');\n",
              "      const label = document.createElement('label');\n",
              "      label.textContent = `Downloading \"${filename}\": `;\n",
              "      div.appendChild(label);\n",
              "      const progress = document.createElement('progress');\n",
              "      progress.max = size;\n",
              "      div.appendChild(progress);\n",
              "      document.body.appendChild(div);\n",
              "\n",
              "      const buffers = [];\n",
              "      let downloaded = 0;\n",
              "\n",
              "      const channel = await google.colab.kernel.comms.open(id);\n",
              "      // Send a message to notify the kernel that we're ready.\n",
              "      channel.send({})\n",
              "\n",
              "      for await (const message of channel.messages) {\n",
              "        // Send a message to notify the kernel that we're ready.\n",
              "        channel.send({})\n",
              "        if (message.buffers) {\n",
              "          for (const buffer of message.buffers) {\n",
              "            buffers.push(buffer);\n",
              "            downloaded += buffer.byteLength;\n",
              "            progress.value = downloaded;\n",
              "          }\n",
              "        }\n",
              "      }\n",
              "      const blob = new Blob(buffers, {type: 'application/binary'});\n",
              "      const a = document.createElement('a');\n",
              "      a.href = window.URL.createObjectURL(blob);\n",
              "      a.download = filename;\n",
              "      div.appendChild(a);\n",
              "      a.click();\n",
              "      div.remove();\n",
              "    }\n",
              "  "
            ]
          },
          "metadata": {}
        },
        {
          "output_type": "display_data",
          "data": {
            "text/plain": [
              "<IPython.core.display.Javascript object>"
            ],
            "application/javascript": [
              "download(\"download_bfd36953-a9f8-4f66-acae-328cbcd2c12e\", \"\\u563b\\u563b\\u6709\\u9897\\u864e\\u7259(\\u7231\\ud83c\\udfa4)_2025-06-01_05-17-35.mp4\", 38794628)"
            ]
          },
          "metadata": {}
        },
        {
          "output_type": "stream",
          "name": "stdout",
          "text": [
            "  --> Download initiated for '嘻嘻有颗虎牙(爱🎤)/嘻嘻有颗虎牙(爱🎤)_2025-06-01_05-17-35.mp4'.\n",
            "Download progress saved: Next file index is 30.\n",
            "\n",
            "Proceeding to the next file...\n",
            "[31/32] Downloading: 佳怡violinist🎻/佳怡violinist🎻_2025-06-01_05-17-14.mp4\n"
          ]
        },
        {
          "output_type": "display_data",
          "data": {
            "text/plain": [
              "<IPython.core.display.Javascript object>"
            ],
            "application/javascript": [
              "\n",
              "    async function download(id, filename, size) {\n",
              "      if (!google.colab.kernel.accessAllowed) {\n",
              "        return;\n",
              "      }\n",
              "      const div = document.createElement('div');\n",
              "      const label = document.createElement('label');\n",
              "      label.textContent = `Downloading \"${filename}\": `;\n",
              "      div.appendChild(label);\n",
              "      const progress = document.createElement('progress');\n",
              "      progress.max = size;\n",
              "      div.appendChild(progress);\n",
              "      document.body.appendChild(div);\n",
              "\n",
              "      const buffers = [];\n",
              "      let downloaded = 0;\n",
              "\n",
              "      const channel = await google.colab.kernel.comms.open(id);\n",
              "      // Send a message to notify the kernel that we're ready.\n",
              "      channel.send({})\n",
              "\n",
              "      for await (const message of channel.messages) {\n",
              "        // Send a message to notify the kernel that we're ready.\n",
              "        channel.send({})\n",
              "        if (message.buffers) {\n",
              "          for (const buffer of message.buffers) {\n",
              "            buffers.push(buffer);\n",
              "            downloaded += buffer.byteLength;\n",
              "            progress.value = downloaded;\n",
              "          }\n",
              "        }\n",
              "      }\n",
              "      const blob = new Blob(buffers, {type: 'application/binary'});\n",
              "      const a = document.createElement('a');\n",
              "      a.href = window.URL.createObjectURL(blob);\n",
              "      a.download = filename;\n",
              "      div.appendChild(a);\n",
              "      a.click();\n",
              "      div.remove();\n",
              "    }\n",
              "  "
            ]
          },
          "metadata": {}
        },
        {
          "output_type": "display_data",
          "data": {
            "text/plain": [
              "<IPython.core.display.Javascript object>"
            ],
            "application/javascript": [
              "download(\"download_c1fc57fc-a067-4254-aaa3-673275ec6081\", \"\\u4f73\\u6021violinist\\ud83c\\udfbb_2025-06-01_05-17-14.mp4\", 58456872)"
            ]
          },
          "metadata": {}
        },
        {
          "output_type": "stream",
          "name": "stdout",
          "text": [
            "  --> Download initiated for '佳怡violinist🎻/佳怡violinist🎻_2025-06-01_05-17-14.mp4'.\n",
            "Download progress saved: Next file index is 31.\n",
            "\n",
            "Proceeding to the next file...\n",
            "[32/32] Downloading: 紫哥/紫哥_2025-06-01_05-17-31.mp4\n"
          ]
        },
        {
          "output_type": "display_data",
          "data": {
            "text/plain": [
              "<IPython.core.display.Javascript object>"
            ],
            "application/javascript": [
              "\n",
              "    async function download(id, filename, size) {\n",
              "      if (!google.colab.kernel.accessAllowed) {\n",
              "        return;\n",
              "      }\n",
              "      const div = document.createElement('div');\n",
              "      const label = document.createElement('label');\n",
              "      label.textContent = `Downloading \"${filename}\": `;\n",
              "      div.appendChild(label);\n",
              "      const progress = document.createElement('progress');\n",
              "      progress.max = size;\n",
              "      div.appendChild(progress);\n",
              "      document.body.appendChild(div);\n",
              "\n",
              "      const buffers = [];\n",
              "      let downloaded = 0;\n",
              "\n",
              "      const channel = await google.colab.kernel.comms.open(id);\n",
              "      // Send a message to notify the kernel that we're ready.\n",
              "      channel.send({})\n",
              "\n",
              "      for await (const message of channel.messages) {\n",
              "        // Send a message to notify the kernel that we're ready.\n",
              "        channel.send({})\n",
              "        if (message.buffers) {\n",
              "          for (const buffer of message.buffers) {\n",
              "            buffers.push(buffer);\n",
              "            downloaded += buffer.byteLength;\n",
              "            progress.value = downloaded;\n",
              "          }\n",
              "        }\n",
              "      }\n",
              "      const blob = new Blob(buffers, {type: 'application/binary'});\n",
              "      const a = document.createElement('a');\n",
              "      a.href = window.URL.createObjectURL(blob);\n",
              "      a.download = filename;\n",
              "      div.appendChild(a);\n",
              "      a.click();\n",
              "      div.remove();\n",
              "    }\n",
              "  "
            ]
          },
          "metadata": {}
        },
        {
          "output_type": "display_data",
          "data": {
            "text/plain": [
              "<IPython.core.display.Javascript object>"
            ],
            "application/javascript": [
              "download(\"download_3e90c0cc-a3d9-4511-b471-964d65c4739d\", \"\\u7d2b\\u54e5_2025-06-01_05-17-31.mp4\", 41302029)"
            ]
          },
          "metadata": {}
        },
        {
          "output_type": "stream",
          "name": "stdout",
          "text": [
            "  --> Download initiated for '紫哥/紫哥_2025-06-01_05-17-31.mp4'.\n",
            "Download progress saved: Next file index is 32.\n",
            "\n",
            "All available files have been downloaded!\n",
            "The progress file '/content/download_progress.txt' indicates completion. To restart, you can manually delete this file.\n"
          ]
        }
      ]
    }
  ],
  "metadata": {
    "colab": {
      "name": "Douyin Live Recorder",
      "provenance": []
    },
    "kernelspec": {
      "display_name": "Python 3",
      "name": "python3"
    },
    "language_info": {
      "name": "python",
      "version": "3.13.0"
    }
  },
  "nbformat": 4,
  "nbformat_minor": 0
}