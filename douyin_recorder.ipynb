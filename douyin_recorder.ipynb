{
  "cells": [
    {
      "cell_type": "markdown",
      "metadata": {
        "id": "intro"
      },
      "source": [
        "# Douyin Live Recorder\n",
        "\n",
        "Notebook นี้ใช้สำหรับรัน DouyinLiveRecorder เพื่อบันทึกวิดีโอไลฟ์จาก Douyin (TikTok จีน)"
      ]
    },
    {
      "cell_type": "code",
      "metadata": {
        "id": "clone_repo"
      },
      "source": [
        "# Clone repository\n",
        "!git clone https://github.com/ihmily/DouyinLiveRecorder.git"
        "!git clone https://github.com/chaiz64/l777k.git"
      ],
      "execution_count": null,
      "outputs": []
    },
    {
      "cell_type": "code", 
      "metadata": {
        "id": "install_requirements"
      },
      "source": [
        "# เข้าไปยังโฟลเดอร์โปรเจค\n",
        "%cd DouyinLiveRecorder\n",
        "\n",
        "# ติดตั้ง dependencies\n",
        "!pip3 install -r requirements.txt"
      ],
      "execution_count": null,
      "outputs": []
    },
    {
      "cell_type": "code",
      "metadata": {
        "id": "install_ffmpeg"
      }, 
      "source": [
        "# ติดตั้ง ffmpeg\n",
        "!apt update\n",
        "!apt install ffmpeg -y"
      ],
      "execution_count": null,
      "outputs": []
    },
    {
      "cell_type": "code",
      "metadata": {
        "id": "run_recorder"
      },
      "source": [
        "# รันโปรแกรม\n",
        "!python main.py"
      ],
      "execution_count": null,
      "outputs": []
    }
  ],
  "metadata": {
    "colab": {
      "name": "Douyin Live Recorder",
      "provenance": [],
      "collapsed_sections": []
    },
    "kernelspec": {
      "name": "python3",
      "display_name": "Python 3"
    },
    "language_info": {
      "name": "python"
    }
  },
  "nbformat": 4,
  "nbformat_minor": 0
}
